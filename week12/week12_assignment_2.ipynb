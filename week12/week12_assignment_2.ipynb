{
 "cells": [
  {
   "cell_type": "markdown",
   "metadata": {
    "nbgrader": {
     "grade": false,
     "grade_id": "cell-fc1c39d0d6f8b82a",
     "locked": true,
     "schema_version": 1,
     "solution": false
    }
   },
   "source": [
    "# Week 12 Programming Assignment\n",
    "\n",
    "As you're working on identifying data for your final project, it's helpful to spend some time exploring your various data files.  For this week's assignment, I'd like you to take a few of the ideas from the the lectures, review assignment, and tonight's lecture to start exploring the data you plan to use for the final project.\n",
    "\n",
    "For the following activities, you can use just one of the data files that you've identified, or you can do the activities using different data files.  That's up to you.  Please describe what you're doing in a Markdown cell or in the comments of your code.  When you've completed the assignment, submit it as normal."
   ]
  },
  {
   "cell_type": "markdown",
   "metadata": {},
   "source": [
    "### 1. Basic Statistics\n",
    "\n",
    "Use Python to read in your data file and show many rows and columns your data has."
   ]
  },
  {
   "cell_type": "code",
   "execution_count": 22,
   "metadata": {},
   "outputs": [
    {
     "data": {
      "text/plain": [
       "(682, 17)"
      ]
     },
     "execution_count": 22,
     "metadata": {},
     "output_type": "execute_result"
    }
   ],
   "source": [
    "import requests\n",
    "import pandas as pd\n",
    "import json\n",
    "res_list = pd.read_csv('IM Res Alumni List - Data.csv')\n",
    "res_list.columns = ['last_name', 'first_name', 'grad_date', 'us_grad', 'do',\n",
    "       'slusom_grad', 'chief', 'fellow_type', 'fellow_location',\n",
    "       'fellow_grad_date', 'working_as', 'practice_loc', 'acad',\n",
    "       'stl', 'ssm', 'slu', 'notes', 'email',\n",
    "       'contact_info']\n",
    "\n",
    "del res_list['notes']\n",
    "del res_list['contact_info']\n",
    "res_list.shape"
   ]
  },
  {
   "cell_type": "markdown",
   "metadata": {},
   "source": [
    "### 2. Data Diversity\n",
    "\n",
    "Use Python to identify how many unique values each column in your data has.  Use Python to identify which column has the greatest number of distinct values (aka the most diversity)?"
   ]
  },
  {
   "cell_type": "code",
   "execution_count": 23,
   "metadata": {},
   "outputs": [
    {
     "data": {
      "text/html": [
       "<div>\n",
       "<style scoped>\n",
       "    .dataframe tbody tr th:only-of-type {\n",
       "        vertical-align: middle;\n",
       "    }\n",
       "\n",
       "    .dataframe tbody tr th {\n",
       "        vertical-align: top;\n",
       "    }\n",
       "\n",
       "    .dataframe thead th {\n",
       "        text-align: right;\n",
       "    }\n",
       "</style>\n",
       "<table border=\"1\" class=\"dataframe\">\n",
       "  <thead>\n",
       "    <tr style=\"text-align: right;\">\n",
       "      <th></th>\n",
       "      <th>last_name</th>\n",
       "      <th>first_name</th>\n",
       "      <th>grad_date</th>\n",
       "      <th>us_grad</th>\n",
       "      <th>do</th>\n",
       "      <th>slusom_grad</th>\n",
       "      <th>chief</th>\n",
       "      <th>fellow_type</th>\n",
       "      <th>fellow_location</th>\n",
       "      <th>fellow_grad_date</th>\n",
       "      <th>working_as</th>\n",
       "      <th>practice_loc</th>\n",
       "      <th>acad</th>\n",
       "      <th>stl</th>\n",
       "      <th>ssm</th>\n",
       "      <th>slu</th>\n",
       "      <th>email</th>\n",
       "    </tr>\n",
       "  </thead>\n",
       "  <tbody>\n",
       "    <tr>\n",
       "      <th>0</th>\n",
       "      <td>Cseri</td>\n",
       "      <td>Zoltan</td>\n",
       "      <td>2002</td>\n",
       "      <td>True</td>\n",
       "      <td>False</td>\n",
       "      <td>False</td>\n",
       "      <td>False</td>\n",
       "      <td>nan</td>\n",
       "      <td>nan</td>\n",
       "      <td>nan</td>\n",
       "      <td>nan</td>\n",
       "      <td>nan</td>\n",
       "      <td>NaN</td>\n",
       "      <td>NaN</td>\n",
       "      <td>NaN</td>\n",
       "      <td>NaN</td>\n",
       "      <td>nan</td>\n",
       "    </tr>\n",
       "    <tr>\n",
       "      <th>1</th>\n",
       "      <td>Dal canto</td>\n",
       "      <td>Albert John</td>\n",
       "      <td>2002</td>\n",
       "      <td>True</td>\n",
       "      <td>False</td>\n",
       "      <td>False</td>\n",
       "      <td>False</td>\n",
       "      <td>nan</td>\n",
       "      <td>nan</td>\n",
       "      <td>nan</td>\n",
       "      <td>nan</td>\n",
       "      <td>nan</td>\n",
       "      <td>NaN</td>\n",
       "      <td>NaN</td>\n",
       "      <td>NaN</td>\n",
       "      <td>NaN</td>\n",
       "      <td>nan</td>\n",
       "    </tr>\n",
       "    <tr>\n",
       "      <th>2</th>\n",
       "      <td>Duong</td>\n",
       "      <td>Vu</td>\n",
       "      <td>2002</td>\n",
       "      <td>True</td>\n",
       "      <td>False</td>\n",
       "      <td>True</td>\n",
       "      <td>False</td>\n",
       "      <td>nan</td>\n",
       "      <td>nan</td>\n",
       "      <td>nan</td>\n",
       "      <td>nan</td>\n",
       "      <td>nan</td>\n",
       "      <td>NaN</td>\n",
       "      <td>NaN</td>\n",
       "      <td>NaN</td>\n",
       "      <td>NaN</td>\n",
       "      <td>nan</td>\n",
       "    </tr>\n",
       "    <tr>\n",
       "      <th>3</th>\n",
       "      <td>Hennemeyer</td>\n",
       "      <td>Charles</td>\n",
       "      <td>2002</td>\n",
       "      <td>True</td>\n",
       "      <td>False</td>\n",
       "      <td>True</td>\n",
       "      <td>False</td>\n",
       "      <td>nan</td>\n",
       "      <td>nan</td>\n",
       "      <td>nan</td>\n",
       "      <td>nan</td>\n",
       "      <td>nan</td>\n",
       "      <td>NaN</td>\n",
       "      <td>NaN</td>\n",
       "      <td>NaN</td>\n",
       "      <td>NaN</td>\n",
       "      <td>nan</td>\n",
       "    </tr>\n",
       "    <tr>\n",
       "      <th>4</th>\n",
       "      <td>Jones</td>\n",
       "      <td>Ramoun Dant'e</td>\n",
       "      <td>2002</td>\n",
       "      <td>True</td>\n",
       "      <td>False</td>\n",
       "      <td>False</td>\n",
       "      <td>False</td>\n",
       "      <td>nan</td>\n",
       "      <td>nan</td>\n",
       "      <td>nan</td>\n",
       "      <td>nan</td>\n",
       "      <td>nan</td>\n",
       "      <td>NaN</td>\n",
       "      <td>NaN</td>\n",
       "      <td>NaN</td>\n",
       "      <td>NaN</td>\n",
       "      <td>nan</td>\n",
       "    </tr>\n",
       "  </tbody>\n",
       "</table>\n",
       "</div>"
      ],
      "text/plain": [
       "    last_name     first_name grad_date us_grad     do slusom_grad  chief  \\\n",
       "0       Cseri         Zoltan      2002    True  False       False  False   \n",
       "1   Dal canto    Albert John      2002    True  False       False  False   \n",
       "2       Duong             Vu      2002    True  False        True  False   \n",
       "3  Hennemeyer        Charles      2002    True  False        True  False   \n",
       "4       Jones  Ramoun Dant'e      2002    True  False       False  False   \n",
       "\n",
       "  fellow_type fellow_location fellow_grad_date working_as practice_loc acad  \\\n",
       "0         nan             nan              nan        nan          nan  NaN   \n",
       "1         nan             nan              nan        nan          nan  NaN   \n",
       "2         nan             nan              nan        nan          nan  NaN   \n",
       "3         nan             nan              nan        nan          nan  NaN   \n",
       "4         nan             nan              nan        nan          nan  NaN   \n",
       "\n",
       "   stl  ssm  slu email  \n",
       "0  NaN  NaN  NaN   nan  \n",
       "1  NaN  NaN  NaN   nan  \n",
       "2  NaN  NaN  NaN   nan  \n",
       "3  NaN  NaN  NaN   nan  \n",
       "4  NaN  NaN  NaN   nan  "
      ]
     },
     "execution_count": 23,
     "metadata": {},
     "output_type": "execute_result"
    }
   ],
   "source": [
    "\n",
    "\n",
    "res_list['last_name'] = res_list['last_name'].astype(str)\n",
    "res_list['first_name'] = res_list['first_name'].astype(str)\n",
    "res_list['fellow_type'] = res_list['fellow_type'].astype(str)\n",
    "res_list['fellow_location'] = res_list['fellow_location'].astype(str)\n",
    "res_list['working_as'] = res_list['working_as'].astype(str)\n",
    "res_list['practice_loc'] = res_list['practice_loc'].astype(str)\n",
    "res_list['email'] = res_list['email'].astype(str)\n",
    "\n",
    "res_list['us_grad'] = res_list.us_grad.map({'Yes':True, 'No':False, 'NaN':False})\n",
    "res_list['do'] = res_list.do.map({'Yes':True, 'No':False, 'NaN':False})\n",
    "res_list['slusom_grad'] = res_list.slusom_grad.map({'Yes':True, 'No':False, 'NaN':False})\n",
    "res_list['chief'] = res_list.chief.map({'Yes':True, 'No':False, 'NaN':False})\n",
    "res_list['acad'] = res_list.acad.map({'Yes':True, 'No':False, 'NaN':False})\n",
    "res_list['stl'] = res_list.stl.map({'Yes':True, 'No':False, 'NaN':False})\n",
    "res_list['ssm'] = res_list.ssm.map({'Yes':True, 'No':False, 'NaN':False})\n",
    "res_list['slu'] = res_list.slu.map({'Yes':True, 'No':False, 'NaN':False})\n",
    "\n",
    "res_list['grad_date'] = res_list['grad_date'].astype(str)\n",
    "res_list['fellow_grad_date'] = res_list['fellow_grad_date'].astype(str)\n",
    "\n",
    "res_list.head()"
   ]
  },
  {
   "cell_type": "code",
   "execution_count": 24,
   "metadata": {},
   "outputs": [
    {
     "name": "stdout",
     "output_type": "stream",
     "text": [
      "last_name has 539 value(s)\n",
      "first_name has 475 value(s)\n",
      "grad_date has 26 value(s)\n",
      "us_grad has 3 value(s)\n",
      "do has 3 value(s)\n",
      "slusom_grad has 3 value(s)\n",
      "chief has 3 value(s)\n",
      "fellow_type has 17 value(s)\n",
      "fellow_location has 38 value(s)\n",
      "fellow_grad_date has 6 value(s)\n",
      "working_as has 14 value(s)\n",
      "practice_loc has 42 value(s)\n",
      "acad has 1 value(s)\n",
      "stl has 3 value(s)\n",
      "ssm has 1 value(s)\n",
      "slu has 1 value(s)\n",
      "email has 19 value(s)\n"
     ]
    }
   ],
   "source": [
    "unique_columns = []\n",
    "\n",
    "for col in res_list.columns:\n",
    "    count = len(res_list[col].unique())\n",
    "    print(\"{} has {} value(s)\".format(col, count))\n",
    "\n",
    "        "
   ]
  },
  {
   "cell_type": "markdown",
   "metadata": {},
   "source": [
    "### 3. Data Redundancy\n",
    "\n",
    "Use Python to identify any columns in your data where the value for every row is the same.  For example, if you had a gender column and all the rows said 'M', then you would want to write the code that helped you determine that."
   ]
  },
  {
   "cell_type": "code",
   "execution_count": 26,
   "metadata": {},
   "outputs": [
    {
     "data": {
      "text/plain": [
       "['acad', 'ssm', 'slu']"
      ]
     },
     "execution_count": 26,
     "metadata": {},
     "output_type": "execute_result"
    }
   ],
   "source": [
    "unique_columns = []\n",
    "\n",
    "for col in res_list.columns:\n",
    "    count = len(res_list[col].unique())\n",
    "#     print(\"{} has {} value(s)\".format(col, count))\n",
    "    if count == 1:\n",
    "        unique_columns.append(col)\n",
    "        \n",
    "unique_columns"
   ]
  },
  {
   "cell_type": "markdown",
   "metadata": {},
   "source": [
    "### 4. Range of Values\n",
    "\n",
    "Your data almost certainly has some numeric columns that can be summed or averaged.  Create a histogram that shows the distribution of values for this column."
   ]
  },
  {
   "cell_type": "code",
   "execution_count": null,
   "metadata": {},
   "outputs": [],
   "source": [
    "import numpy as np\n",
    "import matplotlib.pyplot as plt\n",
    "from matplotlib.ticker import StrMethodFormatter\n",
    "fellow = res_list.loc[res_list['fellow_type'] != 'nan']\n",
    "\n",
    "\n",
    "fellow['fellow_type'].hist(figsize = (14,10))\n",
    "plt.xticks(rotation = 90)"
   ]
  },
  {
   "cell_type": "markdown",
   "metadata": {},
   "source": [
    "### 5. Discussion\n",
    "\n",
    "Do any additional exploration of this data that you think may be interesting and include your code here.  Then go onto Slack and make a post about what you've observed.  Share your observation.  Share your code, if you like.  Share a screenshot of the data or a chart based on the data.\n",
    "\n",
    "Then comment on at least two other people's observations that they share on Slack.  (Use the reply as thread option in Slack to keep the conversation organized.)"
   ]
  },
  {
   "cell_type": "code",
   "execution_count": null,
   "metadata": {},
   "outputs": [],
   "source": []
  },
  {
   "cell_type": "code",
   "execution_count": 94,
   "metadata": {},
   "outputs": [
    {
     "data": {
      "text/plain": [
       "([0, 1, 2, 3, 4, 5, 6, 7, 8, 9, 10, 11, 12, 13, 14, 15, 16, 17, 18, 19, 20],\n",
       " <a list of 21 Text major ticklabel objects>)"
      ]
     },
     "execution_count": 94,
     "metadata": {},
     "output_type": "execute_result"
    },
    {
     "data": {
      "image/png": "[encoded data removed]",
      "text/plain": [
       "<Figure size 864x576 with 1 Axes>"
      ]
     },
     "metadata": {
      "needs_background": "light"
     },
     "output_type": "display_data"
    }
   ],
   "source": [
    "slusom = res_list.loc[res_list['slusom_grad'] == True]\n",
    "\n",
    "slusom['grad_date'].hist(figsize = (12,8))\n",
    "\n",
    "plt.xticks(rotation = 90)"
   ]
  },
  {
   "cell_type": "code",
   "execution_count": 92,
   "metadata": {},
   "outputs": [
    {
     "data": {
      "text/plain": [
       "2014    1\n",
       "2018    1\n",
       "2011    1\n",
       "2012    2\n",
       "2007    2\n",
       "2004    2\n",
       "2002    3\n",
       "2015    4\n",
       "2010    4\n",
       "2009    4\n",
       "2021    4\n",
       "2017    4\n",
       "2022    4\n",
       "2016    5\n",
       "2006    5\n",
       "2013    5\n",
       "2020    7\n",
       "2005    7\n",
       "2003    7\n",
       "2019    8\n",
       "2008    9\n",
       "Name: grad_date, dtype: int64"
      ]
     },
     "execution_count": 92,
     "metadata": {},
     "output_type": "execute_result"
    }
   ],
   "source": [
    "slusom['grad_date'].value_counts().sort_values()"
   ]
  },
  {
   "cell_type": "markdown",
   "metadata": {},
   "source": [
    "---\n",
    "\n",
    "## Submitting Your Work\n",
    "\n",
    "In order to submit your work, you'll need to use the `git` command line program to **add** your homework file (this file) to your local repository, **commit** your changes to your local repository, and then **push** those changes up to github.com.  From there, I'll be able to **pull** the changes down and do my grading.  I'll provide some feedback, **commit** and **push** my comments back to you.  The first line of code below will **pull** down my comments into your local folders.\n",
    "\n",
    "To run through everything one last time and submit your work:\n",
    "1. Use the `Kernel` -> `Restart Kernel and Run All Cells` menu option to run everything from top to bottom and stop here.\n",
    "2. Save this note with Ctrl-S (or Cmd-S)\n",
    "2. Skip down to the last command cell (the one starting with `%%bash`) and run that cell.\n",
    "\n",
    "If anything fails along the way with this submission part of the process, let me know.  I'll help you troubleshoort."
   ]
  },
  {
   "cell_type": "code",
   "execution_count": null,
   "metadata": {},
   "outputs": [],
   "source": [
    "assert False, \"DO NOT REMOVE THIS LINE\""
   ]
  },
  {
   "cell_type": "markdown",
   "metadata": {},
   "source": [
    "---"
   ]
  },
  {
   "cell_type": "code",
   "execution_count": 95,
   "metadata": {},
   "outputs": [
    {
     "name": "stdout",
     "output_type": "stream",
     "text": [
      "Already up to date.\n",
      "[main fdba3cd] Submitting the week 12 assignment\n",
      " 2 files changed, 574 insertions(+), 36 deletions(-)\n",
      " create mode 100644 week12/week12_assignment_2.ipynb\n"
     ]
    },
    {
     "name": "stderr",
     "output_type": "stream",
     "text": [
      "To github.com:fbuckhold3/hds5210-2021.git\n",
      "   90d29fb..fdba3cd  main -> main\n"
     ]
    }
   ],
   "source": [
    "%%bash\n",
    "git pull\n",
    "git add week12_assignment_2.ipynb\n",
    "git commit -a -m \"Submitting the week 12 assignment\"\n",
    "git push"
   ]
  },
  {
   "cell_type": "markdown",
   "metadata": {},
   "source": [
    "\n",
    "---\n",
    "\n",
    "If the message above says something like _Submitting the week 10 review exercises_ or _Everything is up to date_, then your work was submitted correctly."
   ]
  }
 ],
 "metadata": {
  "celltoolbar": "Create Assignment",
  "kernelspec": {
   "display_name": "Python 3",
   "language": "python",
   "name": "python3"
  },
  "language_info": {
   "codemirror_mode": {
    "name": "ipython",
    "version": 3
   },
   "file_extension": ".py",
   "mimetype": "text/x-python",
   "name": "python",
   "nbconvert_exporter": "python",
   "pygments_lexer": "ipython3",
   "version": "3.6.7"
  }
 },
 "nbformat": 4,
 "nbformat_minor": 2
}
