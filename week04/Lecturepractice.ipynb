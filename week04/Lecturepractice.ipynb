{
 "cells": [
  {
   "cell_type": "code",
   "execution_count": 24,
   "metadata": {},
   "outputs": [
    {
     "data": {
      "text/plain": [
       "list"
      ]
     },
     "execution_count": 24,
     "metadata": {},
     "output_type": "execute_result"
    }
   ],
   "source": [
    "a_list = []\n",
    "type(a_list)"
   ]
  },
  {
   "cell_type": "code",
   "execution_count": 25,
   "metadata": {},
   "outputs": [],
   "source": [
    "\n",
    "for num in range (1, 101):\n",
    "    a_list.append(num)"
   ]
  },
  {
   "cell_type": "code",
   "execution_count": 27,
   "metadata": {},
   "outputs": [
    {
     "data": {
      "text/plain": [
       "100"
      ]
     },
     "execution_count": 27,
     "metadata": {},
     "output_type": "execute_result"
    }
   ],
   "source": [
    "len(a_list)"
   ]
  },
  {
   "cell_type": "code",
   "execution_count": 30,
   "metadata": {},
   "outputs": [],
   "source": [
    "names = [[\"Ada\", \"Boal\"], \n",
    "        [\"Paul\", \"Boal\"], \n",
    "         [\"Teddy\", \"Boal\"], [\"Daisy\", \"Duck\"], [\"Donald\", \"Duck\"], ['Eric', 'Westhus']]"
   ]
  },
  {
   "cell_type": "code",
   "execution_count": 112,
   "metadata": {},
   "outputs": [
    {
     "data": {
      "text/plain": [
       "['Ada Boal',\n",
       " 'Paul Boal',\n",
       " 'Teddy Boal',\n",
       " 'Daisy Duck',\n",
       " 'Donald Duck',\n",
       " 'Eric Westhus']"
      ]
     },
     "execution_count": 112,
     "metadata": {},
     "output_type": "execute_result"
    }
   ],
   "source": [
    "[name[0] + \" \" + name[1] for name in names]"
   ]
  },
  {
   "cell_type": "code",
   "execution_count": 118,
   "metadata": {},
   "outputs": [],
   "source": [
    "vals = [3.14, 1.41]\n",
    "vals.append([2.72])\n",
    "vals = vals + ['i']"
   ]
  },
  {
   "cell_type": "code",
   "execution_count": 119,
   "metadata": {},
   "outputs": [
    {
     "data": {
      "text/plain": [
       "[3.14, 1.41, [2.72], 'i']"
      ]
     },
     "execution_count": 119,
     "metadata": {},
     "output_type": "execute_result"
    }
   ],
   "source": [
    "vals"
   ]
  },
  {
   "cell_type": "code",
   "execution_count": 115,
   "metadata": {},
   "outputs": [
    {
     "data": {
      "text/plain": [
       "6"
      ]
     },
     "execution_count": 115,
     "metadata": {},
     "output_type": "execute_result"
    }
   ],
   "source": [
    "(a, b) = (['Paul','Alex','Linda','Kathy','Amit','Samira'], [41, 38, 30, 43, 41, 40, 34, 52])\n",
    "len(a[5])"
   ]
  },
  {
   "cell_type": "code",
   "execution_count": null,
   "metadata": {},
   "outputs": [],
   "source": []
  },
  {
   "cell_type": "code",
   "execution_count": null,
   "metadata": {},
   "outputs": [],
   "source": []
  },
  {
   "cell_type": "code",
   "execution_count": 38,
   "metadata": {},
   "outputs": [
    {
     "name": "stdout",
     "output_type": "stream",
     "text": [
      "Ada is a Boal\n",
      "Paul is a Boal\n",
      "Teddy is a Boal\n",
      "Daisy is a Duck\n",
      "Donald is a Duck\n",
      "Eric is a Westhus\n"
     ]
    }
   ],
   "source": [
    "for name in names:\n",
    "    first_name = name[0]\n",
    "    last_name = name [1]\n",
    "    print(\"{} is a {}\".format(first_name, last_name))\n",
    "        "
   ]
  },
  {
   "cell_type": "code",
   "execution_count": 41,
   "metadata": {},
   "outputs": [],
   "source": [
    "ordered_names = []\n",
    "for name in names:\n",
    "    ordered_names.append([name[1], name[0]])"
   ]
  },
  {
   "cell_type": "code",
   "execution_count": 42,
   "metadata": {},
   "outputs": [
    {
     "data": {
      "text/plain": [
       "[['Boal', 'Ada'],\n",
       " ['Boal', 'Paul'],\n",
       " ['Boal', 'Teddy'],\n",
       " ['Duck', 'Daisy'],\n",
       " ['Duck', 'Donald'],\n",
       " ['Westhus', 'Eric']]"
      ]
     },
     "execution_count": 42,
     "metadata": {},
     "output_type": "execute_result"
    }
   ],
   "source": [
    "ordered_names"
   ]
  },
  {
   "cell_type": "code",
   "execution_count": 43,
   "metadata": {},
   "outputs": [],
   "source": [
    " ordered_names.sort()"
   ]
  },
  {
   "cell_type": "code",
   "execution_count": 44,
   "metadata": {},
   "outputs": [
    {
     "data": {
      "text/plain": [
       "[['Boal', 'Ada'],\n",
       " ['Boal', 'Paul'],\n",
       " ['Boal', 'Teddy'],\n",
       " ['Duck', 'Daisy'],\n",
       " ['Duck', 'Donald'],\n",
       " ['Westhus', 'Eric']]"
      ]
     },
     "execution_count": 44,
     "metadata": {},
     "output_type": "execute_result"
    }
   ],
   "source": [
    "ordered_names"
   ]
  },
  {
   "cell_type": "code",
   "execution_count": 45,
   "metadata": {},
   "outputs": [
    {
     "name": "stdout",
     "output_type": "stream",
     "text": [
      "Ada Boal\n",
      "Paul Boal\n",
      "Teddy Boal\n",
      "Daisy Duck\n",
      "Donald Duck\n",
      "Eric Westhus\n"
     ]
    }
   ],
   "source": [
    "for name in ordered_names:\n",
    "    print(\"{} {}\".format(name[1], name[0]))"
   ]
  },
  {
   "cell_type": "code",
   "execution_count": 46,
   "metadata": {},
   "outputs": [],
   "source": [
    "a_list = [1, 2, 5, 4, 3, 2, 1, 5]"
   ]
  },
  {
   "cell_type": "code",
   "execution_count": 47,
   "metadata": {},
   "outputs": [
    {
     "data": {
      "text/plain": [
       "list"
      ]
     },
     "execution_count": 47,
     "metadata": {},
     "output_type": "execute_result"
    }
   ],
   "source": [
    "type(a_list)"
   ]
  },
  {
   "cell_type": "code",
   "execution_count": 48,
   "metadata": {},
   "outputs": [
    {
     "data": {
      "text/plain": [
       "[1, 2, 5, 4, 3, 2, 1, 5]"
      ]
     },
     "execution_count": 48,
     "metadata": {},
     "output_type": "execute_result"
    }
   ],
   "source": [
    "a_list"
   ]
  },
  {
   "cell_type": "code",
   "execution_count": 49,
   "metadata": {},
   "outputs": [],
   "source": [
    "a_set = set(a_list)"
   ]
  },
  {
   "cell_type": "code",
   "execution_count": 50,
   "metadata": {},
   "outputs": [
    {
     "data": {
      "text/plain": [
       "set"
      ]
     },
     "execution_count": 50,
     "metadata": {},
     "output_type": "execute_result"
    }
   ],
   "source": [
    "type(a_set)"
   ]
  },
  {
   "cell_type": "code",
   "execution_count": 51,
   "metadata": {},
   "outputs": [
    {
     "data": {
      "text/plain": [
       "{1, 2, 3, 4, 5}"
      ]
     },
     "execution_count": 51,
     "metadata": {},
     "output_type": "execute_result"
    }
   ],
   "source": [
    "a_set"
   ]
  },
  {
   "cell_type": "code",
   "execution_count": 52,
   "metadata": {},
   "outputs": [
    {
     "ename": "SyntaxError",
     "evalue": "invalid syntax (<ipython-input-52-c183e658cf3f>, line 1)",
     "output_type": "error",
     "traceback": [
      "\u001b[0;36m  File \u001b[0;32m\"<ipython-input-52-c183e658cf3f>\"\u001b[0;36m, line \u001b[0;32m1\u001b[0m\n\u001b[0;31m    a_set{0}\u001b[0m\n\u001b[0m         ^\u001b[0m\n\u001b[0;31mSyntaxError\u001b[0m\u001b[0;31m:\u001b[0m invalid syntax\n"
     ]
    }
   ],
   "source": [
    "a_set{0}"
   ]
  },
  {
   "cell_type": "code",
   "execution_count": 64,
   "metadata": {},
   "outputs": [],
   "source": [
    "import random"
   ]
  },
  {
   "cell_type": "code",
   "execution_count": 65,
   "metadata": {},
   "outputs": [
    {
     "data": {
      "text/plain": [
       "7"
      ]
     },
     "execution_count": 65,
     "metadata": {},
     "output_type": "execute_result"
    }
   ],
   "source": [
    "random.randrange(1,11)"
   ]
  },
  {
   "cell_type": "code",
   "execution_count": 68,
   "metadata": {},
   "outputs": [],
   "source": [
    "from random import randrange"
   ]
  },
  {
   "cell_type": "code",
   "execution_count": 67,
   "metadata": {},
   "outputs": [],
   "source": [
    "a_list = []\n",
    "for i in range(100):\n",
    "    a_list.append(randrange(1,101))"
   ]
  },
  {
   "cell_type": "code",
   "execution_count": 69,
   "metadata": {},
   "outputs": [
    {
     "data": {
      "text/plain": [
       "[3,\n",
       " 66,\n",
       " 95,\n",
       " 5,\n",
       " 97,\n",
       " 56,\n",
       " 38,\n",
       " 50,\n",
       " 47,\n",
       " 62,\n",
       " 44,\n",
       " 2,\n",
       " 42,\n",
       " 37,\n",
       " 34,\n",
       " 39,\n",
       " 75,\n",
       " 52,\n",
       " 17,\n",
       " 7,\n",
       " 25,\n",
       " 44,\n",
       " 64,\n",
       " 22,\n",
       " 44,\n",
       " 14,\n",
       " 74,\n",
       " 78,\n",
       " 41,\n",
       " 58,\n",
       " 1,\n",
       " 55,\n",
       " 11,\n",
       " 13,\n",
       " 53,\n",
       " 69,\n",
       " 52,\n",
       " 30,\n",
       " 71,\n",
       " 61,\n",
       " 64,\n",
       " 10,\n",
       " 5,\n",
       " 40,\n",
       " 70,\n",
       " 2,\n",
       " 88,\n",
       " 19,\n",
       " 68,\n",
       " 62,\n",
       " 4,\n",
       " 36,\n",
       " 7,\n",
       " 10,\n",
       " 50,\n",
       " 45,\n",
       " 38,\n",
       " 24,\n",
       " 48,\n",
       " 2,\n",
       " 24,\n",
       " 2,\n",
       " 75,\n",
       " 82,\n",
       " 89,\n",
       " 59,\n",
       " 81,\n",
       " 82,\n",
       " 13,\n",
       " 34,\n",
       " 42,\n",
       " 67,\n",
       " 10,\n",
       " 84,\n",
       " 87,\n",
       " 40,\n",
       " 21,\n",
       " 40,\n",
       " 83,\n",
       " 62,\n",
       " 53,\n",
       " 5,\n",
       " 5,\n",
       " 76,\n",
       " 25,\n",
       " 62,\n",
       " 89,\n",
       " 83,\n",
       " 70,\n",
       " 55,\n",
       " 11,\n",
       " 61,\n",
       " 33,\n",
       " 82,\n",
       " 33,\n",
       " 44,\n",
       " 92,\n",
       " 56,\n",
       " 38,\n",
       " 31]"
      ]
     },
     "execution_count": 69,
     "metadata": {},
     "output_type": "execute_result"
    }
   ],
   "source": [
    "a_list"
   ]
  },
  {
   "cell_type": "code",
   "execution_count": 71,
   "metadata": {},
   "outputs": [
    {
     "data": {
      "text/plain": [
       "61"
      ]
     },
     "execution_count": 71,
     "metadata": {},
     "output_type": "execute_result"
    }
   ],
   "source": [
    "len(set(a_list))"
   ]
  },
  {
   "cell_type": "code",
   "execution_count": 83,
   "metadata": {},
   "outputs": [],
   "source": [
    "tup = tuple('string')"
   ]
  },
  {
   "cell_type": "code",
   "execution_count": 84,
   "metadata": {},
   "outputs": [
    {
     "data": {
      "text/plain": [
       "('s', 't', 'r', 'i', 'n', 'g')"
      ]
     },
     "execution_count": 84,
     "metadata": {},
     "output_type": "execute_result"
    }
   ],
   "source": [
    "tup"
   ]
  },
  {
   "cell_type": "code",
   "execution_count": 85,
   "metadata": {},
   "outputs": [],
   "source": [
    "patient_ages = {'Jones': 89, 'Andrews': 22, 'Abrams': 9}"
   ]
  },
  {
   "cell_type": "code",
   "execution_count": 88,
   "metadata": {},
   "outputs": [
    {
     "name": "stdout",
     "output_type": "stream",
     "text": [
      "Jones is 89\n",
      "Andrews is 22\n",
      "Abrams is 9\n"
     ]
    }
   ],
   "source": [
    "for k, v in patient_ages.items():\n",
    "    print(k + \" is \" + str(v))"
   ]
  },
  {
   "cell_type": "code",
   "execution_count": 90,
   "metadata": {},
   "outputs": [],
   "source": [
    "family = {}"
   ]
  },
  {
   "cell_type": "code",
   "execution_count": 91,
   "metadata": {},
   "outputs": [],
   "source": [
    "families ={}"
   ]
  },
  {
   "cell_type": "code",
   "execution_count": 103,
   "metadata": {},
   "outputs": [],
   "source": [
    "families = {\n",
    "    \"Buckhold\": [\n",
    "        {\"First Name\": \"Fred\", \"Age\": 40},\n",
    "        {\"First Name\": \"Gretchen\", \"Age\": 41}, \n",
    "        {\"First Name\": \"Elizabeth\", \"Age\": 13}\n",
    "    ],\n",
    "    \"Nuetzel\": [\n",
    "        {\"First Name\": \"Bill\", \"Age\": 70},\n",
    "        {\"First Name\": \"Judy\", \"Age\": 74}\n",
    "    ]\n",
    "}"
   ]
  },
  {
   "cell_type": "code",
   "execution_count": 104,
   "metadata": {},
   "outputs": [
    {
     "data": {
      "text/plain": [
       "{'Buckhold': [{'First Name': 'Fred', 'Age': 40},\n",
       "  {'First Name': 'Gretchen', 'Age': 41},\n",
       "  {'First Name': 'Elizabeth', 'Age': 13}],\n",
       " 'Nuetzel': [{'First Name': 'Bill', 'Age': 70},\n",
       "  {'First Name': 'Judy', 'Age': 74}]}"
      ]
     },
     "execution_count": 104,
     "metadata": {},
     "output_type": "execute_result"
    }
   ],
   "source": [
    "families"
   ]
  },
  {
   "cell_type": "code",
   "execution_count": 110,
   "metadata": {},
   "outputs": [
    {
     "name": "stdout",
     "output_type": "stream",
     "text": [
      "****\n",
      "[{'First Name': 'Fred', 'Age': 40}, {'First Name': 'Gretchen', 'Age': 41}, {'First Name': 'Elizabeth', 'Age': 13}]\n",
      "The average age of 3 of Buckhold is 31.333333333333332\n",
      "****\n",
      "[{'First Name': 'Bill', 'Age': 70}, {'First Name': 'Judy', 'Age': 74}]\n",
      "The average age of 2 of Nuetzel is 72.0\n"
     ]
    }
   ],
   "source": [
    "for family, members in families.items():\n",
    "    print (\"****\")\n",
    "    print (members)\n",
    "    count = len(members)\n",
    "    total_age = 0\n",
    "    for members in members: \n",
    "        total_age += members[\"Age\"]\n",
    "    print (\"The average age of {} of {} is {}\".format(count, family, total_age / count))"
   ]
  },
  {
   "cell_type": "code",
   "execution_count": null,
   "metadata": {},
   "outputs": [],
   "source": []
  }
 ],
 "metadata": {
  "kernelspec": {
   "display_name": "Python 3",
   "language": "python",
   "name": "python3"
  },
  "language_info": {
   "codemirror_mode": {
    "name": "ipython",
    "version": 3
   },
   "file_extension": ".py",
   "mimetype": "text/x-python",
   "name": "python",
   "nbconvert_exporter": "python",
   "pygments_lexer": "ipython3",
   "version": "3.6.7"
  }
 },
 "nbformat": 4,
 "nbformat_minor": 4
}
