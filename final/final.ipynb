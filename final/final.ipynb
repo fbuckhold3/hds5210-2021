{
 "cells": [
  {
   "cell_type": "markdown",
   "metadata": {},
   "source": [
    "# Final Project\n",
    "### Fred Buckhold\n",
    "\n",
    "## Overview:\n",
    "\n",
    "This project takes a rough list of current and graduate residents from the Internal Medicine Residency Program at Saint Louis University and will merge this dataset with the National Provider Information database and certificaiton status with the American Board of Internal Medicine.\n",
    "\n",
    "The goal of this project is develop a framework of getting rather up-to-date information of graduate resident practice location and information and their area of specialty and certification. Ultimately, this dataset can be used against clinical practice data to get a perspective on clinical performance. It could also be used to make comparisons to other residency training programs.  \n",
    "\n",
    "(Author's note: the imputed dataset has some flaws and needs to be rectified. This coding project is meant to be more proof of concept)\n",
    "\n",
    "### First, we will get the csv file of a list of residents and modify the data for further analysis:"
   ]
  },
  {
   "cell_type": "code",
   "execution_count": 269,
   "metadata": {},
   "outputs": [
    {
     "data": {
      "text/plain": [
       "(580, 17)"
      ]
     },
     "execution_count": 269,
     "metadata": {},
     "output_type": "execute_result"
    }
   ],
   "source": [
    "import requests\n",
    "import pandas as pd\n",
    "import json\n",
    "from bs4 import BeautifulSoup\n",
    "import numpy as np\n",
    "import matplotlib.pyplot as plt\n",
    "\n",
    "\n",
    "res_list = pd.read_csv('IM Res Alumni List - Data.csv')\n",
    "res_list.columns = ['last_name', 'first_name', 'grad_date', 'us_grad', 'do',\n",
    "       'slusom_grad', 'chief', 'fellow_type', 'fellow_location',\n",
    "       'fellow_grad_date', 'working_as', 'practice_loc', 'acad',\n",
    "       'stl', 'ssm', 'slu', 'notes', 'email',\n",
    "       'contact_info']\n",
    "\n",
    "del res_list['notes']\n",
    "del res_list['contact_info']\n",
    "res_list.shape\n"
   ]
  },
  {
   "cell_type": "markdown",
   "metadata": {},
   "source": [
    "### Column data types and explanation:\n",
    "\n",
    "'last_name', = last name of resident, string  \n",
    "'first_name' = first name of resident, string  \n",
    "'grad_date' = year of residency graduation (string, float, or int)  \n",
    "'us_grad' = graduate of US-based school, MD/DO, boolean  \n",
    "'do' = graduate of DO school, boolean  \n",
    "'slusom_grad?' = graduate of SLUSOM, boolean  \n",
    "'chief' = did a chief year in program, boolean  \n",
    "'fellow_type' = specialty of fellow, str  \n",
    "'fellow_location' = location of fellowship (usually a school), str  \n",
    "'fellow_grad_date' = year of graduation from fellowship, (string, float, or int)  \n",
    "'working_as' = type of practice (specialty or general), str  \n",
    "'practice_loc' = location of practicing, if practicing, str  \n",
    "'acad' = part of an academic practice, boolean  \n",
    "'stl' = working in STL region (consider St. Louis, STL County, St. Charles, Jefferson), boolean  \n",
    "'ssm' = working at an SSM system practice or hospital, boolean  \n",
    "'slu' = working for SLU practice, boolean  \n",
    "'email' = email address, if known; str  \n",
    "\n",
    "\n"
   ]
  },
  {
   "cell_type": "code",
   "execution_count": 639,
   "metadata": {},
   "outputs": [],
   "source": [
    "res_list['last_name'] = res_list['last_name'].astype(str)\n",
    "res_list['first_name'] = res_list['first_name'].astype(str)\n",
    "res_list['fellow_type'] = res_list['fellow_type'].astype(str)\n",
    "res_list['fellow_location'] = res_list['fellow_location'].astype(str)\n",
    "res_list['working_as'] = res_list['working_as'].astype(str)\n",
    "res_list['practice_loc'] = res_list['practice_loc'].astype(str)\n",
    "res_list['email'] = res_list['email'].astype(str)\n",
    "\n",
    "res_list['us_grad'] = res_list.us_grad.map({'Yes':True, 'No':False, 'NaN':False})\n",
    "res_list['do'] = res_list.do.map({'Yes':True, 'No':False, 'NaN':False})\n",
    "res_list['slusom_grad'] = res_list.slusom_grad.map({'Yes':True, 'No':False, 'NaN':False})\n",
    "res_list['chief'] = res_list.chief.map({'Yes':True, 'No':False, 'NaN':False})\n",
    "res_list['acad'] = res_list.acad.map({'Yes':True, 'No':False, 'NaN':False})\n",
    "res_list['stl'] = res_list.stl.map({'Yes':True, 'No':False, 'NaN':False})\n",
    "res_list['ssm'] = res_list.ssm.map({'Yes':True, 'No':False, 'NaN':False})\n",
    "res_list['slu'] = res_list.slu.map({'Yes':True, 'No':False, 'NaN':False})\n",
    "\n",
    "res_list['grad_date'] = res_list['grad_date'].astype(str)\n",
    "res_list['fellow_grad_date'] = res_list['fellow_grad_date'].astype(str)\n"
   ]
  },
  {
   "cell_type": "code",
   "execution_count": 108,
   "metadata": {},
   "outputs": [
    {
     "data": {
      "text/html": [
       "<div>\n",
       "<style scoped>\n",
       "    .dataframe tbody tr th:only-of-type {\n",
       "        vertical-align: middle;\n",
       "    }\n",
       "\n",
       "    .dataframe tbody tr th {\n",
       "        vertical-align: top;\n",
       "    }\n",
       "\n",
       "    .dataframe thead th {\n",
       "        text-align: right;\n",
       "    }\n",
       "</style>\n",
       "<table border=\"1\" class=\"dataframe\">\n",
       "  <thead>\n",
       "    <tr style=\"text-align: right;\">\n",
       "      <th></th>\n",
       "      <th>last_name</th>\n",
       "      <th>first_name</th>\n",
       "      <th>grad_date</th>\n",
       "      <th>us_grad</th>\n",
       "      <th>do</th>\n",
       "      <th>slusom_grad</th>\n",
       "      <th>chief</th>\n",
       "      <th>fellow_type</th>\n",
       "      <th>fellow_location</th>\n",
       "      <th>fellow_grad_date</th>\n",
       "      <th>working_as</th>\n",
       "      <th>practice_loc</th>\n",
       "      <th>acad</th>\n",
       "      <th>stl</th>\n",
       "      <th>ssm</th>\n",
       "      <th>slu</th>\n",
       "      <th>email</th>\n",
       "    </tr>\n",
       "  </thead>\n",
       "  <tbody>\n",
       "    <tr>\n",
       "      <th>0</th>\n",
       "      <td>Cseri</td>\n",
       "      <td>Zoltan</td>\n",
       "      <td>2002</td>\n",
       "      <td>True</td>\n",
       "      <td>False</td>\n",
       "      <td>False</td>\n",
       "      <td>False</td>\n",
       "      <td>nan</td>\n",
       "      <td>nan</td>\n",
       "      <td>nan</td>\n",
       "      <td>nan</td>\n",
       "      <td>nan</td>\n",
       "      <td>NaN</td>\n",
       "      <td>NaN</td>\n",
       "      <td>NaN</td>\n",
       "      <td>NaN</td>\n",
       "      <td>nan</td>\n",
       "    </tr>\n",
       "    <tr>\n",
       "      <th>1</th>\n",
       "      <td>Dalcanto</td>\n",
       "      <td>Albert</td>\n",
       "      <td>2002</td>\n",
       "      <td>True</td>\n",
       "      <td>False</td>\n",
       "      <td>False</td>\n",
       "      <td>False</td>\n",
       "      <td>nan</td>\n",
       "      <td>nan</td>\n",
       "      <td>nan</td>\n",
       "      <td>nan</td>\n",
       "      <td>nan</td>\n",
       "      <td>NaN</td>\n",
       "      <td>NaN</td>\n",
       "      <td>NaN</td>\n",
       "      <td>NaN</td>\n",
       "      <td>nan</td>\n",
       "    </tr>\n",
       "    <tr>\n",
       "      <th>2</th>\n",
       "      <td>Duong</td>\n",
       "      <td>Vu</td>\n",
       "      <td>2002</td>\n",
       "      <td>True</td>\n",
       "      <td>False</td>\n",
       "      <td>True</td>\n",
       "      <td>False</td>\n",
       "      <td>nan</td>\n",
       "      <td>nan</td>\n",
       "      <td>nan</td>\n",
       "      <td>nan</td>\n",
       "      <td>nan</td>\n",
       "      <td>NaN</td>\n",
       "      <td>NaN</td>\n",
       "      <td>NaN</td>\n",
       "      <td>NaN</td>\n",
       "      <td>nan</td>\n",
       "    </tr>\n",
       "    <tr>\n",
       "      <th>3</th>\n",
       "      <td>Hennemeyer</td>\n",
       "      <td>Charles</td>\n",
       "      <td>2002</td>\n",
       "      <td>True</td>\n",
       "      <td>False</td>\n",
       "      <td>True</td>\n",
       "      <td>False</td>\n",
       "      <td>nan</td>\n",
       "      <td>nan</td>\n",
       "      <td>nan</td>\n",
       "      <td>nan</td>\n",
       "      <td>nan</td>\n",
       "      <td>NaN</td>\n",
       "      <td>NaN</td>\n",
       "      <td>NaN</td>\n",
       "      <td>NaN</td>\n",
       "      <td>nan</td>\n",
       "    </tr>\n",
       "    <tr>\n",
       "      <th>4</th>\n",
       "      <td>Jones</td>\n",
       "      <td>Ramoun</td>\n",
       "      <td>2002</td>\n",
       "      <td>True</td>\n",
       "      <td>False</td>\n",
       "      <td>False</td>\n",
       "      <td>False</td>\n",
       "      <td>nan</td>\n",
       "      <td>nan</td>\n",
       "      <td>nan</td>\n",
       "      <td>nan</td>\n",
       "      <td>nan</td>\n",
       "      <td>NaN</td>\n",
       "      <td>NaN</td>\n",
       "      <td>NaN</td>\n",
       "      <td>NaN</td>\n",
       "      <td>nan</td>\n",
       "    </tr>\n",
       "  </tbody>\n",
       "</table>\n",
       "</div>"
      ],
      "text/plain": [
       "    last_name first_name grad_date us_grad     do slusom_grad  chief  \\\n",
       "0       Cseri     Zoltan      2002    True  False       False  False   \n",
       "1    Dalcanto     Albert      2002    True  False       False  False   \n",
       "2       Duong         Vu      2002    True  False        True  False   \n",
       "3  Hennemeyer    Charles      2002    True  False        True  False   \n",
       "4       Jones     Ramoun      2002    True  False       False  False   \n",
       "\n",
       "  fellow_type fellow_location fellow_grad_date working_as practice_loc acad  \\\n",
       "0         nan             nan              nan        nan          nan  NaN   \n",
       "1         nan             nan              nan        nan          nan  NaN   \n",
       "2         nan             nan              nan        nan          nan  NaN   \n",
       "3         nan             nan              nan        nan          nan  NaN   \n",
       "4         nan             nan              nan        nan          nan  NaN   \n",
       "\n",
       "   stl  ssm  slu email  \n",
       "0  NaN  NaN  NaN   nan  \n",
       "1  NaN  NaN  NaN   nan  \n",
       "2  NaN  NaN  NaN   nan  \n",
       "3  NaN  NaN  NaN   nan  \n",
       "4  NaN  NaN  NaN   nan  "
      ]
     },
     "execution_count": 108,
     "metadata": {},
     "output_type": "execute_result"
    }
   ],
   "source": [
    "res_list.head()"
   ]
  },
  {
   "cell_type": "markdown",
   "metadata": {},
   "source": [
    "The program has on average 26 residents per year. Let's see how the data looks per year: "
   ]
  },
  {
   "cell_type": "code",
   "execution_count": 312,
   "metadata": {},
   "outputs": [
    {
     "data": {
      "text/plain": [
       "<matplotlib.axes._subplots.AxesSubplot at 0x7f1ef35ed278>"
      ]
     },
     "execution_count": 312,
     "metadata": {},
     "output_type": "execute_result"
    },
    {
     "data": {
      "image/png": "[encoded data removed]",
      "text/plain": [
       "<Figure size 432x288 with 1 Axes>"
      ]
     },
     "metadata": {
      "needs_background": "light"
     },
     "output_type": "display_data"
    }
   ],
   "source": [
    "res_list['grad_date'].value_counts().plot.bar()"
   ]
  },
  {
   "cell_type": "markdown",
   "metadata": {},
   "source": [
    "## Getting data from NPI API\n",
    "### (data downloads as a JSON that needs parsing)\n",
    "\n",
    "This is the first large function to get data based on a resident name from the NPI.\n",
    "As some resident graduates will have a common name, there is code to identify those that practice \"Internal Medicine\". If there is more than on Internal Medicine provider, the function returns \"needs attention\" so a filter may be applied and the proper person may be identifed. \n",
    "\n",
    "Further code, after running the function, is to clean up the dataset and do some analysis"
   ]
  },
  {
   "cell_type": "code",
   "execution_count": 105,
   "metadata": {},
   "outputs": [],
   "source": [
    "def get_names_npi1(first, last):\n",
    "    url = 'https://npiregistry.cms.hhs.gov/api/?number=&enumeration_type=&taxonomy_description=&first_name={}&use_first_name_alias=&last_name={}&organization_name=&address_purpose=&city=&state=&postal_code=&country_code=&limit=50&skip=&version=2.1'.format(first, last)\n",
    "    resp = requests.get(url)\n",
    "    data = resp.json() \n",
    "    count = data.get('result_count')\n",
    "    result = data.get('results')\n",
    "    output =[]\n",
    "    npi = ()\n",
    "    first_name = ()\n",
    "    last_name = ()\n",
    "    degree = ()\n",
    "    gender = ()\n",
    "    city = ()\n",
    "    state = ()\n",
    "    zipcode = ()\n",
    "    state_lic = ()\n",
    "    lic_no = ()\n",
    "    specialty = ()         \n",
    "    if len(result) > 0:\n",
    "        if count == 1: \n",
    "            npi = result[0].get('number') \n",
    "            first_name = result[0].get('basic').get('first_name')\n",
    "            last_name = result[0].get('basic').get('last_name')\n",
    "            degree = result[0].get('basic').get('credential')\n",
    "            gender = result[0].get('basic').get('gender')\n",
    "            city = result[0].get('addresses')[0].get('city')\n",
    "            state = result[0].get('addresses')[0].get('state')\n",
    "            zipcode = result[0].get('addresses')[0].get('postal_code')\n",
    "            state_lic = result[0].get('taxonomies')[0].get('state')\n",
    "            lic_no = result[0].get('taxonomies')[0].get('license')\n",
    "            specialty = result[0].get('taxonomies')[0].get('desc') \n",
    "        elif count > 1:\n",
    "            for i in result:\n",
    "                if i.get('taxonomies')[0].get('desc') == 'Internal Medicine':\n",
    "                    output.append(i.get('number'))\n",
    "                else: \n",
    "                    pass\n",
    "    else: \n",
    "        npi = -1\n",
    "        first_name = -1\n",
    "        last_name = - 1\n",
    "        degree = -1\n",
    "        gender = -1\n",
    "        city = -1\n",
    "        state = -1\n",
    "        zipcode = -1\n",
    "        state_lic = -1\n",
    "        lic_no = -1\n",
    "        specialty = -1\n",
    "        \n",
    "    if len(output) == 1:\n",
    "        number = output[0]\n",
    "        url2 = 'https://npiregistry.cms.hhs.gov/api/?number={}&enumeration_type=&taxonomy_description=&first_name=&use_first_name_alias=&last_name=&organization_name=&address_purpose=&city=&state=&postal_code=&country_code=&limit=50&skip=&version=2.1'.format(number)\n",
    "        resp2 = requests.get(url2)\n",
    "        data2 = resp2.json()\n",
    "        result2 = data2.get('results')\n",
    "\n",
    "        npi = result2[0].get('number') \n",
    "        first_name = result2[0].get('basic').get('first_name')\n",
    "        last_name = result2[0].get('basic').get('last_name')\n",
    "        degree = result2[0].get('basic').get('credential')\n",
    "        gender = result2[0].get('basic').get('gender')\n",
    "        city = result2[0].get('addresses')[0].get('city')\n",
    "        state = result2[0].get('addresses')[0].get('state')\n",
    "        zipcode = result2[0].get('addresses')[0].get('postal_code')\n",
    "        state_lic = result2[0].get('taxonomies')[0].get('state')\n",
    "        lic_no = result2[0].get('taxonomies')[0].get('license')\n",
    "        specialty = result2[0].get('taxonomies')[0].get('desc') \n",
    "    elif len(output) > 1:\n",
    "        npi = 'needs review'\n",
    "        first_name = 'needs review'\n",
    "        last_name = 'needs review'\n",
    "        degree = 'needs review'\n",
    "        gender = 'needs review'\n",
    "        city = 'needs review'\n",
    "        state = 'needs review'\n",
    "        zipcode = 'needs review'\n",
    "        state_lic = 'needs review'\n",
    "        lic_no = 'needs review'\n",
    "        specialty = 'needs review'\n",
    "    \n",
    "    return pd.Series([npi, first_name, last_name, degree, gender, city, state, zipcode, state_lic, lic_no, specialty])"
   ]
  },
  {
   "cell_type": "code",
   "execution_count": 109,
   "metadata": {},
   "outputs": [],
   "source": [
    "result = res_list.head(497).apply(lambda x: get_names_npi1(x['first_name'], x['last_name']), axis=1)"
   ]
  },
  {
   "cell_type": "code",
   "execution_count": 440,
   "metadata": {},
   "outputs": [],
   "source": [
    "result.columns = ['npi', 'first_name1', 'last_name1', 'degree', 'gender', 'city', 'state', 'zipcode', 'state_lic', 'lic_no', 'specialty']"
   ]
  },
  {
   "cell_type": "markdown",
   "metadata": {},
   "source": [
    "### How many residents are in each state?"
   ]
  },
  {
   "cell_type": "code",
   "execution_count": 378,
   "metadata": {},
   "outputs": [],
   "source": [
    "state = result['state'].value_counts().reset_index()\n",
    "state = state.drop([1, 2, 3])"
   ]
  },
  {
   "cell_type": "code",
   "execution_count": 391,
   "metadata": {},
   "outputs": [
    {
     "data": {
      "text/plain": [
       "<matplotlib.axes._subplots.AxesSubplot at 0x7f1ef2eac160>"
      ]
     },
     "execution_count": 391,
     "metadata": {},
     "output_type": "execute_result"
    },
    {
     "data": {
      "image/png": "[encoded data removed]",
      "text/plain": [
       "<Figure size 864x576 with 1 Axes>"
      ]
     },
     "metadata": {
      "needs_background": "light"
     },
     "output_type": "display_data"
    }
   ],
   "source": [
    "state.columns = ['state', 'count']\n",
    "state.plot.bar(figsize = (12,8),\n",
    "               x = 'state',\n",
    "              y = 'count')"
   ]
  },
  {
   "cell_type": "markdown",
   "metadata": {},
   "source": [
    "### What cities are residents located in?"
   ]
  },
  {
   "cell_type": "code",
   "execution_count": 418,
   "metadata": {},
   "outputs": [
    {
     "data": {
      "text/plain": [
       "<matplotlib.axes._subplots.AxesSubplot at 0x7f1ef2ac3b70>"
      ]
     },
     "execution_count": 418,
     "metadata": {},
     "output_type": "execute_result"
    },
    {
     "data": {
      "image/png": "[encoded data removed]",
      "text/plain": [
       "<Figure size 864x576 with 1 Axes>"
      ]
     },
     "metadata": {
      "needs_background": "light"
     },
     "output_type": "display_data"
    }
   ],
   "source": [
    "#sort by city\n",
    "city = result['city'].value_counts().reset_index()\n",
    "city = city.drop([0, 2, 3])\n",
    "city.columns = ['city', 'count']\n",
    "city1 = city[city['count'] > 4]\n",
    "city1.plot.bar(figsize = (12, 8),\n",
    "              x = 'city',\n",
    "              y = 'count')"
   ]
  },
  {
   "cell_type": "markdown",
   "metadata": {},
   "source": [
    "### Combined list and analysis\n",
    "The following combines the original list with the npi data gathered. A pivot table is then run to identify types of students (US grads, Grads from DO schools, and SLU grads). A second analysis is done for gender, by graduating year"
   ]
  },
  {
   "cell_type": "code",
   "execution_count": 448,
   "metadata": {},
   "outputs": [],
   "source": [
    "combined_res = pd.concat([res_list, result], axis=1)"
   ]
  },
  {
   "cell_type": "code",
   "execution_count": 449,
   "metadata": {},
   "outputs": [],
   "source": [
    "combined_res = combined_res.drop(['first_name1', 'last_name1'], axis=1)"
   ]
  },
  {
   "cell_type": "code",
   "execution_count": 484,
   "metadata": {},
   "outputs": [
    {
     "data": {
      "text/plain": [
       "Index(['last_name', 'first_name', 'grad_date', 'us_grad', 'do', 'slusom_grad',\n",
       "       'chief', 'fellow_type', 'fellow_location', 'fellow_grad_date',\n",
       "       'working_as', 'practice_loc', 'acad', 'stl', 'ssm', 'slu', 'email',\n",
       "       'npi', 'degree', 'gender', 'city', 'state', 'zipcode', 'state_lic',\n",
       "       'lic_no', 'specialty'],\n",
       "      dtype='object')"
      ]
     },
     "execution_count": 484,
     "metadata": {},
     "output_type": "execute_result"
    }
   ],
   "source": [
    "combined_res.columns"
   ]
  },
  {
   "cell_type": "code",
   "execution_count": 520,
   "metadata": {},
   "outputs": [
    {
     "data": {
      "text/html": [
       "<div>\n",
       "<style scoped>\n",
       "    .dataframe tbody tr th:only-of-type {\n",
       "        vertical-align: middle;\n",
       "    }\n",
       "\n",
       "    .dataframe tbody tr th {\n",
       "        vertical-align: top;\n",
       "    }\n",
       "\n",
       "    .dataframe thead th {\n",
       "        text-align: right;\n",
       "    }\n",
       "</style>\n",
       "<table border=\"1\" class=\"dataframe\">\n",
       "  <thead>\n",
       "    <tr style=\"text-align: right;\">\n",
       "      <th></th>\n",
       "      <th>not_us</th>\n",
       "      <th>do_error</th>\n",
       "      <th>us_not_slu</th>\n",
       "      <th>do</th>\n",
       "      <th>slu</th>\n",
       "      <th>error</th>\n",
       "    </tr>\n",
       "    <tr>\n",
       "      <th>grad_date</th>\n",
       "      <th></th>\n",
       "      <th></th>\n",
       "      <th></th>\n",
       "      <th></th>\n",
       "      <th></th>\n",
       "      <th></th>\n",
       "    </tr>\n",
       "  </thead>\n",
       "  <tbody>\n",
       "    <tr>\n",
       "      <th>2002</th>\n",
       "      <td>NaN</td>\n",
       "      <td>NaN</td>\n",
       "      <td>3.0</td>\n",
       "      <td>3.0</td>\n",
       "      <td>1.0</td>\n",
       "      <td>NaN</td>\n",
       "    </tr>\n",
       "    <tr>\n",
       "      <th>2003</th>\n",
       "      <td>10.0</td>\n",
       "      <td>NaN</td>\n",
       "      <td>2.0</td>\n",
       "      <td>7.0</td>\n",
       "      <td>3.0</td>\n",
       "      <td>NaN</td>\n",
       "    </tr>\n",
       "    <tr>\n",
       "      <th>2004</th>\n",
       "      <td>7.0</td>\n",
       "      <td>NaN</td>\n",
       "      <td>13.0</td>\n",
       "      <td>2.0</td>\n",
       "      <td>2.0</td>\n",
       "      <td>NaN</td>\n",
       "    </tr>\n",
       "    <tr>\n",
       "      <th>2005</th>\n",
       "      <td>11.0</td>\n",
       "      <td>NaN</td>\n",
       "      <td>10.0</td>\n",
       "      <td>7.0</td>\n",
       "      <td>1.0</td>\n",
       "      <td>NaN</td>\n",
       "    </tr>\n",
       "    <tr>\n",
       "      <th>2006</th>\n",
       "      <td>12.0</td>\n",
       "      <td>1.0</td>\n",
       "      <td>8.0</td>\n",
       "      <td>5.0</td>\n",
       "      <td>5.0</td>\n",
       "      <td>NaN</td>\n",
       "    </tr>\n",
       "    <tr>\n",
       "      <th>2007</th>\n",
       "      <td>17.0</td>\n",
       "      <td>NaN</td>\n",
       "      <td>NaN</td>\n",
       "      <td>2.0</td>\n",
       "      <td>2.0</td>\n",
       "      <td>NaN</td>\n",
       "    </tr>\n",
       "    <tr>\n",
       "      <th>2008</th>\n",
       "      <td>18.0</td>\n",
       "      <td>NaN</td>\n",
       "      <td>8.0</td>\n",
       "      <td>9.0</td>\n",
       "      <td>2.0</td>\n",
       "      <td>NaN</td>\n",
       "    </tr>\n",
       "    <tr>\n",
       "      <th>2009</th>\n",
       "      <td>14.0</td>\n",
       "      <td>NaN</td>\n",
       "      <td>4.0</td>\n",
       "      <td>4.0</td>\n",
       "      <td>3.0</td>\n",
       "      <td>NaN</td>\n",
       "    </tr>\n",
       "    <tr>\n",
       "      <th>2010</th>\n",
       "      <td>14.0</td>\n",
       "      <td>NaN</td>\n",
       "      <td>5.0</td>\n",
       "      <td>4.0</td>\n",
       "      <td>NaN</td>\n",
       "      <td>NaN</td>\n",
       "    </tr>\n",
       "    <tr>\n",
       "      <th>2011</th>\n",
       "      <td>14.0</td>\n",
       "      <td>1.0</td>\n",
       "      <td>9.0</td>\n",
       "      <td>1.0</td>\n",
       "      <td>NaN</td>\n",
       "      <td>NaN</td>\n",
       "    </tr>\n",
       "    <tr>\n",
       "      <th>2012</th>\n",
       "      <td>13.0</td>\n",
       "      <td>NaN</td>\n",
       "      <td>4.0</td>\n",
       "      <td>2.0</td>\n",
       "      <td>NaN</td>\n",
       "      <td>NaN</td>\n",
       "    </tr>\n",
       "    <tr>\n",
       "      <th>2013</th>\n",
       "      <td>14.0</td>\n",
       "      <td>NaN</td>\n",
       "      <td>5.0</td>\n",
       "      <td>5.0</td>\n",
       "      <td>1.0</td>\n",
       "      <td>NaN</td>\n",
       "    </tr>\n",
       "    <tr>\n",
       "      <th>2014</th>\n",
       "      <td>10.0</td>\n",
       "      <td>NaN</td>\n",
       "      <td>12.0</td>\n",
       "      <td>1.0</td>\n",
       "      <td>3.0</td>\n",
       "      <td>NaN</td>\n",
       "    </tr>\n",
       "    <tr>\n",
       "      <th>2015</th>\n",
       "      <td>5.0</td>\n",
       "      <td>NaN</td>\n",
       "      <td>15.0</td>\n",
       "      <td>3.0</td>\n",
       "      <td>NaN</td>\n",
       "      <td>1.0</td>\n",
       "    </tr>\n",
       "    <tr>\n",
       "      <th>2016</th>\n",
       "      <td>4.0</td>\n",
       "      <td>NaN</td>\n",
       "      <td>16.0</td>\n",
       "      <td>5.0</td>\n",
       "      <td>3.0</td>\n",
       "      <td>NaN</td>\n",
       "    </tr>\n",
       "    <tr>\n",
       "      <th>2017</th>\n",
       "      <td>3.0</td>\n",
       "      <td>NaN</td>\n",
       "      <td>14.0</td>\n",
       "      <td>4.0</td>\n",
       "      <td>6.0</td>\n",
       "      <td>NaN</td>\n",
       "    </tr>\n",
       "    <tr>\n",
       "      <th>2018</th>\n",
       "      <td>13.0</td>\n",
       "      <td>NaN</td>\n",
       "      <td>11.0</td>\n",
       "      <td>1.0</td>\n",
       "      <td>NaN</td>\n",
       "      <td>NaN</td>\n",
       "    </tr>\n",
       "    <tr>\n",
       "      <th>2019</th>\n",
       "      <td>3.0</td>\n",
       "      <td>NaN</td>\n",
       "      <td>12.0</td>\n",
       "      <td>8.0</td>\n",
       "      <td>6.0</td>\n",
       "      <td>NaN</td>\n",
       "    </tr>\n",
       "    <tr>\n",
       "      <th>2020</th>\n",
       "      <td>8.0</td>\n",
       "      <td>NaN</td>\n",
       "      <td>11.0</td>\n",
       "      <td>7.0</td>\n",
       "      <td>5.0</td>\n",
       "      <td>NaN</td>\n",
       "    </tr>\n",
       "    <tr>\n",
       "      <th>2021</th>\n",
       "      <td>0.0</td>\n",
       "      <td>NaN</td>\n",
       "      <td>0.0</td>\n",
       "      <td>0.0</td>\n",
       "      <td>0.0</td>\n",
       "      <td>NaN</td>\n",
       "    </tr>\n",
       "    <tr>\n",
       "      <th>2022</th>\n",
       "      <td>0.0</td>\n",
       "      <td>NaN</td>\n",
       "      <td>0.0</td>\n",
       "      <td>0.0</td>\n",
       "      <td>0.0</td>\n",
       "      <td>NaN</td>\n",
       "    </tr>\n",
       "  </tbody>\n",
       "</table>\n",
       "</div>"
      ],
      "text/plain": [
       "           not_us  do_error  us_not_slu   do  slu  error\n",
       "grad_date                                               \n",
       "2002          NaN       NaN         3.0  3.0  1.0    NaN\n",
       "2003         10.0       NaN         2.0  7.0  3.0    NaN\n",
       "2004          7.0       NaN        13.0  2.0  2.0    NaN\n",
       "2005         11.0       NaN        10.0  7.0  1.0    NaN\n",
       "2006         12.0       1.0         8.0  5.0  5.0    NaN\n",
       "2007         17.0       NaN         NaN  2.0  2.0    NaN\n",
       "2008         18.0       NaN         8.0  9.0  2.0    NaN\n",
       "2009         14.0       NaN         4.0  4.0  3.0    NaN\n",
       "2010         14.0       NaN         5.0  4.0  NaN    NaN\n",
       "2011         14.0       1.0         9.0  1.0  NaN    NaN\n",
       "2012         13.0       NaN         4.0  2.0  NaN    NaN\n",
       "2013         14.0       NaN         5.0  5.0  1.0    NaN\n",
       "2014         10.0       NaN        12.0  1.0  3.0    NaN\n",
       "2015          5.0       NaN        15.0  3.0  NaN    1.0\n",
       "2016          4.0       NaN        16.0  5.0  3.0    NaN\n",
       "2017          3.0       NaN        14.0  4.0  6.0    NaN\n",
       "2018         13.0       NaN        11.0  1.0  NaN    NaN\n",
       "2019          3.0       NaN        12.0  8.0  6.0    NaN\n",
       "2020          8.0       NaN        11.0  7.0  5.0    NaN\n",
       "2021          0.0       NaN         0.0  0.0  0.0    NaN\n",
       "2022          0.0       NaN         0.0  0.0  0.0    NaN"
      ]
     },
     "execution_count": 520,
     "metadata": {},
     "output_type": "execute_result"
    }
   ],
   "source": [
    "resident_breakdown = combined_res.pivot_table(index ='grad_date', columns = ['us_grad', 'do', 'slusom_grad'], values = 'npi', aggfunc='count')\n",
    "\n",
    "resident_breakdown.columns = ['not_us', 'do_error', 'us_not_slu', 'do', 'slu', 'error']\n",
    "\n",
    "resident_breakdown"
   ]
  },
  {
   "cell_type": "code",
   "execution_count": 579,
   "metadata": {},
   "outputs": [
    {
     "data": {
      "text/html": [
       "<div>\n",
       "<style scoped>\n",
       "    .dataframe tbody tr th:only-of-type {\n",
       "        vertical-align: middle;\n",
       "    }\n",
       "\n",
       "    .dataframe tbody tr th {\n",
       "        vertical-align: top;\n",
       "    }\n",
       "\n",
       "    .dataframe thead th {\n",
       "        text-align: right;\n",
       "    }\n",
       "</style>\n",
       "<table border=\"1\" class=\"dataframe\">\n",
       "  <thead>\n",
       "    <tr style=\"text-align: right;\">\n",
       "      <th></th>\n",
       "      <th>grad_date</th>\n",
       "      <th>variable</th>\n",
       "      <th>value</th>\n",
       "    </tr>\n",
       "  </thead>\n",
       "  <tbody>\n",
       "    <tr>\n",
       "      <th>0</th>\n",
       "      <td>2002</td>\n",
       "      <td>gender</td>\n",
       "      <td>M</td>\n",
       "    </tr>\n",
       "    <tr>\n",
       "      <th>1</th>\n",
       "      <td>2002</td>\n",
       "      <td>gender</td>\n",
       "      <td>-1</td>\n",
       "    </tr>\n",
       "    <tr>\n",
       "      <th>2</th>\n",
       "      <td>2002</td>\n",
       "      <td>gender</td>\n",
       "      <td>()</td>\n",
       "    </tr>\n",
       "    <tr>\n",
       "      <th>3</th>\n",
       "      <td>2002</td>\n",
       "      <td>gender</td>\n",
       "      <td>M</td>\n",
       "    </tr>\n",
       "    <tr>\n",
       "      <th>4</th>\n",
       "      <td>2002</td>\n",
       "      <td>gender</td>\n",
       "      <td>M</td>\n",
       "    </tr>\n",
       "  </tbody>\n",
       "</table>\n",
       "</div>"
      ],
      "text/plain": [
       "  grad_date variable value\n",
       "0      2002   gender     M\n",
       "1      2002   gender    -1\n",
       "2      2002   gender    ()\n",
       "3      2002   gender     M\n",
       "4      2002   gender     M"
      ]
     },
     "execution_count": 579,
     "metadata": {},
     "output_type": "execute_result"
    }
   ],
   "source": [
    "gender = pd.melt(combined_res, id_vars = ['grad_date'], value_vars= ['gender'])\n",
    "gender.head()"
   ]
  },
  {
   "cell_type": "code",
   "execution_count": 583,
   "metadata": {},
   "outputs": [],
   "source": [
    "filter = ((gender['value'] == 'M') | (gender['value'] == 'F'))"
   ]
  },
  {
   "cell_type": "code",
   "execution_count": 591,
   "metadata": {},
   "outputs": [
    {
     "name": "stderr",
     "output_type": "stream",
     "text": [
      "/opt/tljh/user/lib/python3.6/site-packages/ipykernel_launcher.py:1: UserWarning: Boolean Series key will be reindexed to match DataFrame index.\n",
      "  \"\"\"Entry point for launching an IPython kernel.\n"
     ]
    }
   ],
   "source": [
    "g = gender[filter].reset_index()\n"
   ]
  },
  {
   "cell_type": "code",
   "execution_count": 592,
   "metadata": {},
   "outputs": [
    {
     "data": {
      "text/html": [
       "<div>\n",
       "<style scoped>\n",
       "    .dataframe tbody tr th:only-of-type {\n",
       "        vertical-align: middle;\n",
       "    }\n",
       "\n",
       "    .dataframe tbody tr th {\n",
       "        vertical-align: top;\n",
       "    }\n",
       "\n",
       "    .dataframe thead th {\n",
       "        text-align: right;\n",
       "    }\n",
       "</style>\n",
       "<table border=\"1\" class=\"dataframe\">\n",
       "  <thead>\n",
       "    <tr style=\"text-align: right;\">\n",
       "      <th></th>\n",
       "      <th>index</th>\n",
       "      <th>grad_date</th>\n",
       "      <th>variable</th>\n",
       "      <th>value</th>\n",
       "    </tr>\n",
       "  </thead>\n",
       "  <tbody>\n",
       "    <tr>\n",
       "      <th>0</th>\n",
       "      <td>0</td>\n",
       "      <td>2002</td>\n",
       "      <td>gender</td>\n",
       "      <td>M</td>\n",
       "    </tr>\n",
       "    <tr>\n",
       "      <th>1</th>\n",
       "      <td>3</td>\n",
       "      <td>2002</td>\n",
       "      <td>gender</td>\n",
       "      <td>M</td>\n",
       "    </tr>\n",
       "    <tr>\n",
       "      <th>2</th>\n",
       "      <td>4</td>\n",
       "      <td>2002</td>\n",
       "      <td>gender</td>\n",
       "      <td>M</td>\n",
       "    </tr>\n",
       "    <tr>\n",
       "      <th>3</th>\n",
       "      <td>5</td>\n",
       "      <td>2002</td>\n",
       "      <td>gender</td>\n",
       "      <td>M</td>\n",
       "    </tr>\n",
       "    <tr>\n",
       "      <th>4</th>\n",
       "      <td>6</td>\n",
       "      <td>2002</td>\n",
       "      <td>gender</td>\n",
       "      <td>F</td>\n",
       "    </tr>\n",
       "    <tr>\n",
       "      <th>...</th>\n",
       "      <td>...</td>\n",
       "      <td>...</td>\n",
       "      <td>...</td>\n",
       "      <td>...</td>\n",
       "    </tr>\n",
       "    <tr>\n",
       "      <th>295</th>\n",
       "      <td>492</td>\n",
       "      <td>2020</td>\n",
       "      <td>gender</td>\n",
       "      <td>F</td>\n",
       "    </tr>\n",
       "    <tr>\n",
       "      <th>296</th>\n",
       "      <td>493</td>\n",
       "      <td>2020</td>\n",
       "      <td>gender</td>\n",
       "      <td>F</td>\n",
       "    </tr>\n",
       "    <tr>\n",
       "      <th>297</th>\n",
       "      <td>494</td>\n",
       "      <td>2020</td>\n",
       "      <td>gender</td>\n",
       "      <td>M</td>\n",
       "    </tr>\n",
       "    <tr>\n",
       "      <th>298</th>\n",
       "      <td>495</td>\n",
       "      <td>2020</td>\n",
       "      <td>gender</td>\n",
       "      <td>M</td>\n",
       "    </tr>\n",
       "    <tr>\n",
       "      <th>299</th>\n",
       "      <td>496</td>\n",
       "      <td>2020</td>\n",
       "      <td>gender</td>\n",
       "      <td>M</td>\n",
       "    </tr>\n",
       "  </tbody>\n",
       "</table>\n",
       "<p>300 rows × 4 columns</p>\n",
       "</div>"
      ],
      "text/plain": [
       "     index grad_date variable value\n",
       "0        0      2002   gender     M\n",
       "1        3      2002   gender     M\n",
       "2        4      2002   gender     M\n",
       "3        5      2002   gender     M\n",
       "4        6      2002   gender     F\n",
       "..     ...       ...      ...   ...\n",
       "295    492      2020   gender     F\n",
       "296    493      2020   gender     F\n",
       "297    494      2020   gender     M\n",
       "298    495      2020   gender     M\n",
       "299    496      2020   gender     M\n",
       "\n",
       "[300 rows x 4 columns]"
      ]
     },
     "execution_count": 592,
     "metadata": {},
     "output_type": "execute_result"
    }
   ],
   "source": [
    "g"
   ]
  },
  {
   "cell_type": "code",
   "execution_count": 630,
   "metadata": {},
   "outputs": [],
   "source": [
    "gend_break = pd.pivot_table(g, index = 'grad_date', columns = 'value', values = 'variable', aggfunc = 'count')"
   ]
  },
  {
   "cell_type": "code",
   "execution_count": 631,
   "metadata": {},
   "outputs": [
    {
     "data": {
      "text/html": [
       "<div>\n",
       "<style scoped>\n",
       "    .dataframe tbody tr th:only-of-type {\n",
       "        vertical-align: middle;\n",
       "    }\n",
       "\n",
       "    .dataframe tbody tr th {\n",
       "        vertical-align: top;\n",
       "    }\n",
       "\n",
       "    .dataframe thead th {\n",
       "        text-align: right;\n",
       "    }\n",
       "</style>\n",
       "<table border=\"1\" class=\"dataframe\">\n",
       "  <thead>\n",
       "    <tr style=\"text-align: right;\">\n",
       "      <th>value</th>\n",
       "      <th>F</th>\n",
       "      <th>M</th>\n",
       "    </tr>\n",
       "    <tr>\n",
       "      <th>grad_date</th>\n",
       "      <th></th>\n",
       "      <th></th>\n",
       "    </tr>\n",
       "  </thead>\n",
       "  <tbody>\n",
       "    <tr>\n",
       "      <th>2002</th>\n",
       "      <td>1</td>\n",
       "      <td>4</td>\n",
       "    </tr>\n",
       "    <tr>\n",
       "      <th>2003</th>\n",
       "      <td>4</td>\n",
       "      <td>3</td>\n",
       "    </tr>\n",
       "    <tr>\n",
       "      <th>2004</th>\n",
       "      <td>3</td>\n",
       "      <td>11</td>\n",
       "    </tr>\n",
       "    <tr>\n",
       "      <th>2005</th>\n",
       "      <td>8</td>\n",
       "      <td>13</td>\n",
       "    </tr>\n",
       "    <tr>\n",
       "      <th>2006</th>\n",
       "      <td>10</td>\n",
       "      <td>11</td>\n",
       "    </tr>\n",
       "    <tr>\n",
       "      <th>2007</th>\n",
       "      <td>4</td>\n",
       "      <td>13</td>\n",
       "    </tr>\n",
       "    <tr>\n",
       "      <th>2008</th>\n",
       "      <td>5</td>\n",
       "      <td>16</td>\n",
       "    </tr>\n",
       "    <tr>\n",
       "      <th>2009</th>\n",
       "      <td>6</td>\n",
       "      <td>9</td>\n",
       "    </tr>\n",
       "    <tr>\n",
       "      <th>2010</th>\n",
       "      <td>5</td>\n",
       "      <td>7</td>\n",
       "    </tr>\n",
       "    <tr>\n",
       "      <th>2011</th>\n",
       "      <td>8</td>\n",
       "      <td>12</td>\n",
       "    </tr>\n",
       "    <tr>\n",
       "      <th>2012</th>\n",
       "      <td>6</td>\n",
       "      <td>5</td>\n",
       "    </tr>\n",
       "    <tr>\n",
       "      <th>2013</th>\n",
       "      <td>9</td>\n",
       "      <td>10</td>\n",
       "    </tr>\n",
       "    <tr>\n",
       "      <th>2014</th>\n",
       "      <td>4</td>\n",
       "      <td>8</td>\n",
       "    </tr>\n",
       "    <tr>\n",
       "      <th>2015</th>\n",
       "      <td>7</td>\n",
       "      <td>7</td>\n",
       "    </tr>\n",
       "    <tr>\n",
       "      <th>2016</th>\n",
       "      <td>3</td>\n",
       "      <td>13</td>\n",
       "    </tr>\n",
       "    <tr>\n",
       "      <th>2017</th>\n",
       "      <td>9</td>\n",
       "      <td>11</td>\n",
       "    </tr>\n",
       "    <tr>\n",
       "      <th>2018</th>\n",
       "      <td>9</td>\n",
       "      <td>9</td>\n",
       "    </tr>\n",
       "    <tr>\n",
       "      <th>2019</th>\n",
       "      <td>3</td>\n",
       "      <td>10</td>\n",
       "    </tr>\n",
       "    <tr>\n",
       "      <th>2020</th>\n",
       "      <td>12</td>\n",
       "      <td>12</td>\n",
       "    </tr>\n",
       "  </tbody>\n",
       "</table>\n",
       "</div>"
      ],
      "text/plain": [
       "value       F   M\n",
       "grad_date        \n",
       "2002        1   4\n",
       "2003        4   3\n",
       "2004        3  11\n",
       "2005        8  13\n",
       "2006       10  11\n",
       "2007        4  13\n",
       "2008        5  16\n",
       "2009        6   9\n",
       "2010        5   7\n",
       "2011        8  12\n",
       "2012        6   5\n",
       "2013        9  10\n",
       "2014        4   8\n",
       "2015        7   7\n",
       "2016        3  13\n",
       "2017        9  11\n",
       "2018        9   9\n",
       "2019        3  10\n",
       "2020       12  12"
      ]
     },
     "execution_count": 631,
     "metadata": {},
     "output_type": "execute_result"
    }
   ],
   "source": [
    "gend_break"
   ]
  },
  {
   "cell_type": "code",
   "execution_count": 632,
   "metadata": {},
   "outputs": [
    {
     "data": {
      "text/html": [
       "<div>\n",
       "<style scoped>\n",
       "    .dataframe tbody tr th:only-of-type {\n",
       "        vertical-align: middle;\n",
       "    }\n",
       "\n",
       "    .dataframe tbody tr th {\n",
       "        vertical-align: top;\n",
       "    }\n",
       "\n",
       "    .dataframe thead th {\n",
       "        text-align: right;\n",
       "    }\n",
       "</style>\n",
       "<table border=\"1\" class=\"dataframe\">\n",
       "  <thead>\n",
       "    <tr style=\"text-align: right;\">\n",
       "      <th>value</th>\n",
       "      <th>grad_date</th>\n",
       "      <th>F</th>\n",
       "      <th>M</th>\n",
       "    </tr>\n",
       "  </thead>\n",
       "  <tbody>\n",
       "    <tr>\n",
       "      <th>0</th>\n",
       "      <td>2002</td>\n",
       "      <td>1</td>\n",
       "      <td>4</td>\n",
       "    </tr>\n",
       "    <tr>\n",
       "      <th>1</th>\n",
       "      <td>2003</td>\n",
       "      <td>4</td>\n",
       "      <td>3</td>\n",
       "    </tr>\n",
       "    <tr>\n",
       "      <th>2</th>\n",
       "      <td>2004</td>\n",
       "      <td>3</td>\n",
       "      <td>11</td>\n",
       "    </tr>\n",
       "    <tr>\n",
       "      <th>3</th>\n",
       "      <td>2005</td>\n",
       "      <td>8</td>\n",
       "      <td>13</td>\n",
       "    </tr>\n",
       "    <tr>\n",
       "      <th>4</th>\n",
       "      <td>2006</td>\n",
       "      <td>10</td>\n",
       "      <td>11</td>\n",
       "    </tr>\n",
       "    <tr>\n",
       "      <th>5</th>\n",
       "      <td>2007</td>\n",
       "      <td>4</td>\n",
       "      <td>13</td>\n",
       "    </tr>\n",
       "    <tr>\n",
       "      <th>6</th>\n",
       "      <td>2008</td>\n",
       "      <td>5</td>\n",
       "      <td>16</td>\n",
       "    </tr>\n",
       "    <tr>\n",
       "      <th>7</th>\n",
       "      <td>2009</td>\n",
       "      <td>6</td>\n",
       "      <td>9</td>\n",
       "    </tr>\n",
       "    <tr>\n",
       "      <th>8</th>\n",
       "      <td>2010</td>\n",
       "      <td>5</td>\n",
       "      <td>7</td>\n",
       "    </tr>\n",
       "    <tr>\n",
       "      <th>9</th>\n",
       "      <td>2011</td>\n",
       "      <td>8</td>\n",
       "      <td>12</td>\n",
       "    </tr>\n",
       "    <tr>\n",
       "      <th>10</th>\n",
       "      <td>2012</td>\n",
       "      <td>6</td>\n",
       "      <td>5</td>\n",
       "    </tr>\n",
       "    <tr>\n",
       "      <th>11</th>\n",
       "      <td>2013</td>\n",
       "      <td>9</td>\n",
       "      <td>10</td>\n",
       "    </tr>\n",
       "    <tr>\n",
       "      <th>12</th>\n",
       "      <td>2014</td>\n",
       "      <td>4</td>\n",
       "      <td>8</td>\n",
       "    </tr>\n",
       "    <tr>\n",
       "      <th>13</th>\n",
       "      <td>2015</td>\n",
       "      <td>7</td>\n",
       "      <td>7</td>\n",
       "    </tr>\n",
       "    <tr>\n",
       "      <th>14</th>\n",
       "      <td>2016</td>\n",
       "      <td>3</td>\n",
       "      <td>13</td>\n",
       "    </tr>\n",
       "    <tr>\n",
       "      <th>15</th>\n",
       "      <td>2017</td>\n",
       "      <td>9</td>\n",
       "      <td>11</td>\n",
       "    </tr>\n",
       "    <tr>\n",
       "      <th>16</th>\n",
       "      <td>2018</td>\n",
       "      <td>9</td>\n",
       "      <td>9</td>\n",
       "    </tr>\n",
       "    <tr>\n",
       "      <th>17</th>\n",
       "      <td>2019</td>\n",
       "      <td>3</td>\n",
       "      <td>10</td>\n",
       "    </tr>\n",
       "    <tr>\n",
       "      <th>18</th>\n",
       "      <td>2020</td>\n",
       "      <td>12</td>\n",
       "      <td>12</td>\n",
       "    </tr>\n",
       "  </tbody>\n",
       "</table>\n",
       "</div>"
      ],
      "text/plain": [
       "value grad_date   F   M\n",
       "0          2002   1   4\n",
       "1          2003   4   3\n",
       "2          2004   3  11\n",
       "3          2005   8  13\n",
       "4          2006  10  11\n",
       "5          2007   4  13\n",
       "6          2008   5  16\n",
       "7          2009   6   9\n",
       "8          2010   5   7\n",
       "9          2011   8  12\n",
       "10         2012   6   5\n",
       "11         2013   9  10\n",
       "12         2014   4   8\n",
       "13         2015   7   7\n",
       "14         2016   3  13\n",
       "15         2017   9  11\n",
       "16         2018   9   9\n",
       "17         2019   3  10\n",
       "18         2020  12  12"
      ]
     },
     "execution_count": 632,
     "metadata": {},
     "output_type": "execute_result"
    }
   ],
   "source": [
    "gend_break['F'] = gend_break['F'].astype(int)\n",
    "gend_break['M'] = gend_break['M'].astype(int)\n",
    "gend_break = gend_break.reset_index()\n",
    "gend_break"
   ]
  },
  {
   "cell_type": "code",
   "execution_count": 638,
   "metadata": {},
   "outputs": [
    {
     "data": {
      "text/plain": [
       "<matplotlib.legend.Legend at 0x7f1ef2e4f908>"
      ]
     },
     "execution_count": 638,
     "metadata": {},
     "output_type": "execute_result"
    },
    {
     "data": {
      "image/png": "[encoded data removed]",
      "text/plain": [
       "<Figure size 432x288 with 1 Axes>"
      ]
     },
     "metadata": {
      "needs_background": "light"
     },
     "output_type": "display_data"
    }
   ],
   "source": [
    "gend_break.set_index('grad_date').plot.bar(stacked = True).legend(loc='center left',bbox_to_anchor=(1.0, 0.5))"
   ]
  },
  {
   "cell_type": "markdown",
   "metadata": {},
   "source": [
    "### Getting ABIM data\n",
    "This function pulls html data for certification status for graduates, using the npi number culled from the registry. As a number of entries in the original .csv set did not cull npi results (likely due to errors in the resident list), those entries will need to be removed. Subsequently, a pivot table breaks down residents by specialty. "
   ]
  },
  {
   "cell_type": "code",
   "execution_count": 343,
   "metadata": {},
   "outputs": [],
   "source": [
    "def ABIM(npi):\n",
    "    from bs4 import BeautifulSoup\n",
    "    url = 'https://www.abim.org/verify-physician?type=npi&npi={}'.format(npi)\n",
    "    r = requests.get(url)\n",
    "    soup = BeautifulSoup(r.text)\n",
    "    boards = []\n",
    "    if npi == -1:\n",
    "            return \"NA\"\n",
    "    \n",
    "    else: \n",
    "        for element in soup.find_all('div', 'abim_voc-profile'):\n",
    "                for cert in element.find_all('li'):\n",
    "                    boards.append(cert.text)\n",
    "    return pd.Series([npi, boards])"
   ]
  },
  {
   "cell_type": "code",
   "execution_count": 344,
   "metadata": {},
   "outputs": [],
   "source": [
    "board_status = result.apply(lambda x: ABIM(x['npi']), axis =1)"
   ]
  },
  {
   "cell_type": "code",
   "execution_count": 350,
   "metadata": {},
   "outputs": [],
   "source": [
    "board_status.columns = ['npi', 'cert1']"
   ]
  },
  {
   "cell_type": "code",
   "execution_count": 124,
   "metadata": {},
   "outputs": [],
   "source": [
    "board_status = board_status.explode('cert1')"
   ]
  },
  {
   "cell_type": "code",
   "execution_count": 127,
   "metadata": {},
   "outputs": [],
   "source": [
    "status1 = board_status['cert1'].str.split(\": \", expand=True).rename({0: 'cert', 1: 'year_or_status'}, axis=1)"
   ]
  },
  {
   "cell_type": "code",
   "execution_count": 129,
   "metadata": {},
   "outputs": [],
   "source": [
    "status = pd.concat([board_status, status1], axis=1)"
   ]
  },
  {
   "cell_type": "code",
   "execution_count": 183,
   "metadata": {},
   "outputs": [
    {
     "data": {
      "text/plain": [
       "(1274, 3)"
      ]
     },
     "execution_count": 183,
     "metadata": {},
     "output_type": "execute_result"
    }
   ],
   "source": [
    "status.shape"
   ]
  },
  {
   "cell_type": "code",
   "execution_count": 131,
   "metadata": {},
   "outputs": [],
   "source": [
    "del status['cert1']"
   ]
  },
  {
   "cell_type": "code",
   "execution_count": 164,
   "metadata": {},
   "outputs": [],
   "source": [
    "filter = (status['npi'] != 'NA')"
   ]
  },
  {
   "cell_type": "code",
   "execution_count": 165,
   "metadata": {},
   "outputs": [],
   "source": [
    "status1 = status[filter]"
   ]
  },
  {
   "cell_type": "code",
   "execution_count": 182,
   "metadata": {},
   "outputs": [
    {
     "data": {
      "text/plain": [
       "(1163, 3)"
      ]
     },
     "execution_count": 182,
     "metadata": {},
     "output_type": "execute_result"
    }
   ],
   "source": [
    "status1.shape"
   ]
  },
  {
   "cell_type": "code",
   "execution_count": 168,
   "metadata": {},
   "outputs": [],
   "source": [
    "filter = status1['npi'] != 'needs review'"
   ]
  },
  {
   "cell_type": "code",
   "execution_count": 169,
   "metadata": {},
   "outputs": [],
   "source": [
    "status2 = status1[filter]"
   ]
  },
  {
   "cell_type": "code",
   "execution_count": 194,
   "metadata": {},
   "outputs": [],
   "source": [
    "filter = status2['npi'] != '()'"
   ]
  },
  {
   "cell_type": "code",
   "execution_count": 195,
   "metadata": {},
   "outputs": [],
   "source": [
    "final = status2[filter]"
   ]
  },
  {
   "cell_type": "code",
   "execution_count": 218,
   "metadata": {},
   "outputs": [],
   "source": [
    "final = final.reset_index()"
   ]
  },
  {
   "cell_type": "code",
   "execution_count": 221,
   "metadata": {},
   "outputs": [],
   "source": [
    "final = final.drop([1], axis = 0)"
   ]
  },
  {
   "cell_type": "code",
   "execution_count": 222,
   "metadata": {},
   "outputs": [],
   "source": [
    "final = final.drop(['index'], axis =1)"
   ]
  },
  {
   "cell_type": "code",
   "execution_count": 227,
   "metadata": {},
   "outputs": [],
   "source": [
    "final_table = final.pivot_table(index='npi', columns='cert', values='year_or_status', aggfunc='first')"
   ]
  },
  {
   "cell_type": "code",
   "execution_count": 504,
   "metadata": {},
   "outputs": [
    {
     "data": {
      "text/html": [
       "<div>\n",
       "<style scoped>\n",
       "    .dataframe tbody tr th:only-of-type {\n",
       "        vertical-align: middle;\n",
       "    }\n",
       "\n",
       "    .dataframe tbody tr th {\n",
       "        vertical-align: top;\n",
       "    }\n",
       "\n",
       "    .dataframe thead th {\n",
       "        text-align: right;\n",
       "    }\n",
       "</style>\n",
       "<table border=\"1\" class=\"dataframe\">\n",
       "  <thead>\n",
       "    <tr style=\"text-align: right;\">\n",
       "      <th>cert</th>\n",
       "      <th>Advanced Heart Failure and Transplant Cardiology</th>\n",
       "      <th>Cardiovascular Disease</th>\n",
       "      <th>Clinical Cardiac Electrophysiology</th>\n",
       "      <th>Critical Care Medicine</th>\n",
       "      <th>Endocrinology, Diabetes and Metabolism</th>\n",
       "      <th>Gastroenterology</th>\n",
       "      <th>Geriatric Medicine</th>\n",
       "      <th>Hematology</th>\n",
       "      <th>Hospice and Palliative Medicine</th>\n",
       "      <th>Infectious Disease</th>\n",
       "      <th>...</th>\n",
       "      <th>Internal Medicine with Focused Practice in Hospital Medicine</th>\n",
       "      <th>Interventional Cardiology</th>\n",
       "      <th>Medical Oncology</th>\n",
       "      <th>Nephrology</th>\n",
       "      <th>Participating in Maintenance of Certification</th>\n",
       "      <th>Pulmonary Disease</th>\n",
       "      <th>Rheumatology</th>\n",
       "      <th>Sleep Medicine</th>\n",
       "      <th>Sports Medicine</th>\n",
       "      <th>Transplant Hepatology</th>\n",
       "    </tr>\n",
       "    <tr>\n",
       "      <th>npi</th>\n",
       "      <th></th>\n",
       "      <th></th>\n",
       "      <th></th>\n",
       "      <th></th>\n",
       "      <th></th>\n",
       "      <th></th>\n",
       "      <th></th>\n",
       "      <th></th>\n",
       "      <th></th>\n",
       "      <th></th>\n",
       "      <th></th>\n",
       "      <th></th>\n",
       "      <th></th>\n",
       "      <th></th>\n",
       "      <th></th>\n",
       "      <th></th>\n",
       "      <th></th>\n",
       "      <th></th>\n",
       "      <th></th>\n",
       "      <th></th>\n",
       "      <th></th>\n",
       "    </tr>\n",
       "  </thead>\n",
       "  <tbody>\n",
       "    <tr>\n",
       "      <th>1003011578</th>\n",
       "      <td>NaN</td>\n",
       "      <td>NaN</td>\n",
       "      <td>NaN</td>\n",
       "      <td>NaN</td>\n",
       "      <td>NaN</td>\n",
       "      <td>Certified</td>\n",
       "      <td>NaN</td>\n",
       "      <td>NaN</td>\n",
       "      <td>NaN</td>\n",
       "      <td>NaN</td>\n",
       "      <td>...</td>\n",
       "      <td>NaN</td>\n",
       "      <td>NaN</td>\n",
       "      <td>NaN</td>\n",
       "      <td>NaN</td>\n",
       "      <td>Yes</td>\n",
       "      <td>NaN</td>\n",
       "      <td>NaN</td>\n",
       "      <td>NaN</td>\n",
       "      <td>NaN</td>\n",
       "      <td>NaN</td>\n",
       "    </tr>\n",
       "    <tr>\n",
       "      <th>1003019647</th>\n",
       "      <td>NaN</td>\n",
       "      <td>NaN</td>\n",
       "      <td>NaN</td>\n",
       "      <td>NaN</td>\n",
       "      <td>NaN</td>\n",
       "      <td>NaN</td>\n",
       "      <td>NaN</td>\n",
       "      <td>NaN</td>\n",
       "      <td>NaN</td>\n",
       "      <td>NaN</td>\n",
       "      <td>...</td>\n",
       "      <td>NaN</td>\n",
       "      <td>NaN</td>\n",
       "      <td>NaN</td>\n",
       "      <td>Certified</td>\n",
       "      <td>Yes</td>\n",
       "      <td>NaN</td>\n",
       "      <td>NaN</td>\n",
       "      <td>NaN</td>\n",
       "      <td>NaN</td>\n",
       "      <td>NaN</td>\n",
       "    </tr>\n",
       "    <tr>\n",
       "      <th>1003064635</th>\n",
       "      <td>NaN</td>\n",
       "      <td>NaN</td>\n",
       "      <td>NaN</td>\n",
       "      <td>NaN</td>\n",
       "      <td>NaN</td>\n",
       "      <td>NaN</td>\n",
       "      <td>NaN</td>\n",
       "      <td>NaN</td>\n",
       "      <td>NaN</td>\n",
       "      <td>NaN</td>\n",
       "      <td>...</td>\n",
       "      <td>NaN</td>\n",
       "      <td>NaN</td>\n",
       "      <td>NaN</td>\n",
       "      <td>Certified</td>\n",
       "      <td>Yes</td>\n",
       "      <td>NaN</td>\n",
       "      <td>NaN</td>\n",
       "      <td>NaN</td>\n",
       "      <td>NaN</td>\n",
       "      <td>NaN</td>\n",
       "    </tr>\n",
       "    <tr>\n",
       "      <th>1003120692</th>\n",
       "      <td>Certified</td>\n",
       "      <td>Certified</td>\n",
       "      <td>NaN</td>\n",
       "      <td>NaN</td>\n",
       "      <td>NaN</td>\n",
       "      <td>NaN</td>\n",
       "      <td>NaN</td>\n",
       "      <td>NaN</td>\n",
       "      <td>NaN</td>\n",
       "      <td>NaN</td>\n",
       "      <td>...</td>\n",
       "      <td>NaN</td>\n",
       "      <td>NaN</td>\n",
       "      <td>NaN</td>\n",
       "      <td>NaN</td>\n",
       "      <td>Yes</td>\n",
       "      <td>NaN</td>\n",
       "      <td>NaN</td>\n",
       "      <td>NaN</td>\n",
       "      <td>NaN</td>\n",
       "      <td>NaN</td>\n",
       "    </tr>\n",
       "    <tr>\n",
       "      <th>1003158221</th>\n",
       "      <td>NaN</td>\n",
       "      <td>NaN</td>\n",
       "      <td>NaN</td>\n",
       "      <td>NaN</td>\n",
       "      <td>NaN</td>\n",
       "      <td>NaN</td>\n",
       "      <td>NaN</td>\n",
       "      <td>NaN</td>\n",
       "      <td>NaN</td>\n",
       "      <td>NaN</td>\n",
       "      <td>...</td>\n",
       "      <td>NaN</td>\n",
       "      <td>NaN</td>\n",
       "      <td>NaN</td>\n",
       "      <td>NaN</td>\n",
       "      <td>Yes</td>\n",
       "      <td>NaN</td>\n",
       "      <td>NaN</td>\n",
       "      <td>NaN</td>\n",
       "      <td>NaN</td>\n",
       "      <td>NaN</td>\n",
       "    </tr>\n",
       "  </tbody>\n",
       "</table>\n",
       "<p>5 rows × 21 columns</p>\n",
       "</div>"
      ],
      "text/plain": [
       "cert       Advanced Heart Failure and Transplant Cardiology  \\\n",
       "npi                                                           \n",
       "1003011578                                              NaN   \n",
       "1003019647                                              NaN   \n",
       "1003064635                                              NaN   \n",
       "1003120692                                       Certified    \n",
       "1003158221                                              NaN   \n",
       "\n",
       "cert       Cardiovascular Disease Clinical Cardiac Electrophysiology  \\\n",
       "npi                                                                    \n",
       "1003011578                    NaN                                NaN   \n",
       "1003019647                    NaN                                NaN   \n",
       "1003064635                    NaN                                NaN   \n",
       "1003120692             Certified                                 NaN   \n",
       "1003158221                    NaN                                NaN   \n",
       "\n",
       "cert       Critical Care Medicine Endocrinology, Diabetes and Metabolism  \\\n",
       "npi                                                                        \n",
       "1003011578                    NaN                                    NaN   \n",
       "1003019647                    NaN                                    NaN   \n",
       "1003064635                    NaN                                    NaN   \n",
       "1003120692                    NaN                                    NaN   \n",
       "1003158221                    NaN                                    NaN   \n",
       "\n",
       "cert       Gastroenterology Geriatric Medicine Hematology  \\\n",
       "npi                                                         \n",
       "1003011578       Certified                 NaN        NaN   \n",
       "1003019647              NaN                NaN        NaN   \n",
       "1003064635              NaN                NaN        NaN   \n",
       "1003120692              NaN                NaN        NaN   \n",
       "1003158221              NaN                NaN        NaN   \n",
       "\n",
       "cert       Hospice and Palliative Medicine Infectious Disease  ...  \\\n",
       "npi                                                            ...   \n",
       "1003011578                             NaN                NaN  ...   \n",
       "1003019647                             NaN                NaN  ...   \n",
       "1003064635                             NaN                NaN  ...   \n",
       "1003120692                             NaN                NaN  ...   \n",
       "1003158221                             NaN                NaN  ...   \n",
       "\n",
       "cert       Internal Medicine with Focused Practice in Hospital Medicine  \\\n",
       "npi                                                                       \n",
       "1003011578                                                NaN             \n",
       "1003019647                                                NaN             \n",
       "1003064635                                                NaN             \n",
       "1003120692                                                NaN             \n",
       "1003158221                                                NaN             \n",
       "\n",
       "cert       Interventional Cardiology Medical Oncology  Nephrology  \\\n",
       "npi                                                                 \n",
       "1003011578                       NaN              NaN         NaN   \n",
       "1003019647                       NaN              NaN  Certified    \n",
       "1003064635                       NaN              NaN  Certified    \n",
       "1003120692                       NaN              NaN         NaN   \n",
       "1003158221                       NaN              NaN         NaN   \n",
       "\n",
       "cert       Participating in Maintenance of Certification Pulmonary Disease  \\\n",
       "npi                                                                          \n",
       "1003011578                                           Yes               NaN   \n",
       "1003019647                                           Yes               NaN   \n",
       "1003064635                                           Yes               NaN   \n",
       "1003120692                                           Yes               NaN   \n",
       "1003158221                                           Yes               NaN   \n",
       "\n",
       "cert       Rheumatology Sleep Medicine Sports Medicine Transplant Hepatology  \n",
       "npi                                                                           \n",
       "1003011578          NaN            NaN             NaN                   NaN  \n",
       "1003019647          NaN            NaN             NaN                   NaN  \n",
       "1003064635          NaN            NaN             NaN                   NaN  \n",
       "1003120692          NaN            NaN             NaN                   NaN  \n",
       "1003158221          NaN            NaN             NaN                   NaN  \n",
       "\n",
       "[5 rows x 21 columns]"
      ]
     },
     "execution_count": 504,
     "metadata": {},
     "output_type": "execute_result"
    }
   ],
   "source": [
    "final_table.head()"
   ]
  },
  {
   "cell_type": "code",
   "execution_count": 265,
   "metadata": {},
   "outputs": [],
   "source": [
    "specialty = final_table.drop(['Internal Medicine', 'Participating in Maintenance of Certification'], axis =1)"
   ]
  },
  {
   "cell_type": "code",
   "execution_count": 266,
   "metadata": {},
   "outputs": [],
   "source": [
    "sort_cert = specialty.stack().reset_index()"
   ]
  },
  {
   "cell_type": "code",
   "execution_count": 277,
   "metadata": {},
   "outputs": [],
   "source": [
    "spec_sort = sort_cert['cert'].value_counts()"
   ]
  },
  {
   "cell_type": "code",
   "execution_count": 279,
   "metadata": {},
   "outputs": [],
   "source": [
    "spec_sort = spec_sort.reset_index()"
   ]
  },
  {
   "cell_type": "code",
   "execution_count": 283,
   "metadata": {},
   "outputs": [],
   "source": [
    "spec_sort.columns = ['specialty', 'count']"
   ]
  },
  {
   "cell_type": "code",
   "execution_count": 300,
   "metadata": {},
   "outputs": [
    {
     "data": {
      "text/plain": [
       "<matplotlib.axes._subplots.AxesSubplot at 0x7f1ef39d6e80>"
      ]
     },
     "execution_count": 300,
     "metadata": {},
     "output_type": "execute_result"
    },
    {
     "data": {
      "image/png": "[encoded data removed]",
      "text/plain": [
       "<Figure size 432x288 with 1 Axes>"
      ]
     },
     "metadata": {
      "needs_background": "light"
     },
     "output_type": "display_data"
    }
   ],
   "source": [
    "## Graph count by specialty\n",
    "spec_sort.plot.bar(x = 'specialty', y = 'count')"
   ]
  },
  {
   "cell_type": "code",
   "execution_count": 640,
   "metadata": {},
   "outputs": [
    {
     "name": "stdout",
     "output_type": "stream",
     "text": [
      "Already up to date.\n",
      "[main a4f580a] final submitted!\n",
      " 3 files changed, 293 insertions(+), 8 deletions(-)\n"
     ]
    },
    {
     "name": "stderr",
     "output_type": "stream",
     "text": [
      "fatal: pathspec 'final.ipynb' did not match any files\n",
      "To github.com:fbuckhold3/hds5210-2021.git\n",
      "   20f87ee..a4f580a  main -> main\n"
     ]
    }
   ],
   "source": [
    "%%bash\n",
    "git pull\n",
    "git add final.ipynb\n",
    "git commit -a -m \"final submitted!\"\n",
    "git push"
   ]
  },
  {
   "cell_type": "code",
   "execution_count": null,
   "metadata": {},
   "outputs": [],
   "source": []
  }
 ],
 "metadata": {
  "kernelspec": {
   "display_name": "Python 3",
   "language": "python",
   "name": "python3"
  },
  "language_info": {
   "codemirror_mode": {
    "name": "ipython",
    "version": 3
   },
   "file_extension": ".py",
   "mimetype": "text/x-python",
   "name": "python",
   "nbconvert_exporter": "python",
   "pygments_lexer": "ipython3",
   "version": "3.6.7"
  }
 },
 "nbformat": 4,
 "nbformat_minor": 4
}
